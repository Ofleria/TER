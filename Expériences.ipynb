{
 "cells": [
  {
   "cell_type": "markdown",
   "id": "c83b628b",
   "metadata": {},
   "source": [
    "# Méthodes"
   ]
  },
  {
   "cell_type": "markdown",
   "id": "f4e26372",
   "metadata": {},
   "source": [
    "Chargement des bibliothèques nécéssaires"
   ]
  },
  {
   "cell_type": "code",
   "execution_count": 1,
   "id": "640edabc",
   "metadata": {
    "scrolled": true
   },
   "outputs": [],
   "source": [
    "using DataFrames\n",
    "using StatsBase\n",
    "using DelimitedFiles, CSV\n",
    "using MLJ\n",
    "using Combinatorics, JuMP, GLPK\n",
    "using BenchmarkTools"
   ]
  },
  {
   "cell_type": "markdown",
   "id": "87018772",
   "metadata": {},
   "source": [
    "L'exemple illustratif"
   ]
  },
  {
   "cell_type": "code",
   "execution_count": 2,
   "id": "145a65bf",
   "metadata": {},
   "outputs": [],
   "source": [
    "data = DataFrame(Taille=[2, 3, 1, 2, 3, 1, 1, 2, 3, 3],\n",
    "Qualite=[3, 3, 3, 2, 1, 2, 1, 1, 2, 2],\n",
    "Prix=[45, 45, 45, 55, 35, 30, 35, 30, 30, 55],\n",
    "Choix=[3, 3, 2, 1, 2, 2, 1, 1, 3, 2])\n",
    "\n",
    "attributes = [\"Taille\", \"Qualite\", \"Prix\"]\n",
    "target = \"Choix\";"
   ]
  },
  {
   "cell_type": "markdown",
   "id": "83039664",
   "metadata": {},
   "source": [
    "## DRSA"
   ]
  },
  {
   "cell_type": "code",
   "execution_count": 3,
   "id": "75acb278",
   "metadata": {},
   "outputs": [
    {
     "name": "stdout",
     "output_type": "stream",
     "text": [
      "If c1 <= 2 and c2 <= 2 and c3 <= 4 then category 1\n",
      "If c1 <= 3 and c2 <= 3 and c3 <= 4 and c1 >= 1 and c2 >= 1 and c3 >= 1 then category 2\n",
      "If c1 >= 2 and c2 >= 2 and c3 >= 2 then category 3\n"
     ]
    }
   ],
   "source": [
    "K = 3\n",
    "PT = [2 3 2; 3 3 2; 1 3 2; 2 2 1; 3 1 3;\n",
    "      1 2 4; 1 1 3; 2 1 4; 3 2 4; 3 2 1]\n",
    "\n",
    "C = [3,3,2,1,2,2,1,1,3,2]\n",
    "n, m = size(PT)\n",
    "\n",
    "P = collect(powerset(collect(1:m),1))\n",
    "sP = length.(P)\n",
    "np = length(P)\n",
    "\n",
    "D = permutedims(permutedims(repeat(PT,1,1,n),(3,2,1)) .>= PT, (3,1,2)) # dominance i x j for any criterion k\n",
    "\n",
    "DP = [all(D[:,:,p], dims = 3) for p in P]\n",
    "\n",
    "LAge = cat(\n",
    "[\n",
    "    reshape(\n",
    "        permutedims(\n",
    "            all(\n",
    "                repeat(.!DP[i], 1, 1, K) .|| (repeat(DP[i] .* C, 1, 1, K) .>= reshape(collect(1:K),1,1,K))\n",
    "                , dims = 1)\n",
    "            , (3,2,1))\n",
    "        , K, n)\n",
    "    for i=1:np\n",
    "]..., dims = 3) # lower approximation for >=\n",
    "\n",
    "UAge = cat(\n",
    "[\n",
    "    reshape(\n",
    "        permutedims(\n",
    "            any(\n",
    "                repeat(DP[i] .* C', 1, 1, K) .>= reshape(collect(1:K),1,1,K)\n",
    "                , dims = 2)\n",
    "            , (3,1,2))\n",
    "        , K, n)\n",
    "    for i=1:np\n",
    "]..., dims = 3) # upper approximation for >=\n",
    "\n",
    "BRge = UAge .&& .!LAge # boundary for >=\n",
    "\n",
    "LAle = cat(\n",
    "[\n",
    "    reshape(\n",
    "        permutedims(\n",
    "            all(\n",
    "                repeat(DP[i] .* C', 1, 1, K) .<= reshape(collect(1:K),1,1,K)\n",
    "                , dims = 2)\n",
    "            , (3,1,2))\n",
    "        , K, n)\n",
    "    for i=1:np\n",
    "]..., dims = 3) # lower approximation for <=\n",
    "\n",
    "UAle = cat(\n",
    "[\n",
    "    reshape(\n",
    "        permutedims(\n",
    "            any(\n",
    "                repeat(DP[i], 1, 1, K) .&& (repeat(DP[i] .* C, 1, 1, K) .<= reshape(collect(1:K),1,1,K))\n",
    "                , dims = 1)\n",
    "            , (3,2,1))\n",
    "        , K, n)\n",
    "    for i=1:np\n",
    "]..., dims = 3) # upper approximation for <=\n",
    "\n",
    "BRle = UAle .&& .!LAle # boundary for <=\n",
    "\n",
    "indices = []\n",
    "cover = falses(n,0)\n",
    "cost = []\n",
    "for k = 1:K\n",
    "    if k == 1\n",
    "        X = vec(any(LAle[k,:,:], dims = 1))\n",
    "        for i=1:np\n",
    "            if X[i]\n",
    "                Y = vec(all(LAle[k,:,:] .== LAle[k,:,i], dims = 1))\n",
    "                if minimum(sP[Y]) == sP[i]\n",
    "                    global cover = hcat(cover, LAle[k,:,i:i])\n",
    "                    push!(indices, (k,[],P[i],true))\n",
    "                    push!(cost, 1)\n",
    "                end\n",
    "            end\n",
    "        end\n",
    "    elseif k == K\n",
    "        X = vec(any(LAge[k,:,:], dims = 1))\n",
    "        for i=1:np\n",
    "            if X[i]\n",
    "                Y = vec(all(LAge[k,:,:] .== LAge[k,:,i], dims = 1))\n",
    "                if minimum(sP[Y]) == sP[i]\n",
    "                    global cover = hcat(cover, LAge[k,:,i:i])\n",
    "                    push!(indices, (k,P[i],[],true))\n",
    "                    push!(cost, 1)\n",
    "                end\n",
    "            end\n",
    "        end\n",
    "    else\n",
    "        Z = repeat(LAge[k,:,:], 1, 1, np) .&& permutedims(repeat(LAle[k,:,:], 1, 1, np), (1, 3, 2))\n",
    "        X = reshape(permutedims(any(Z, dims = 1), (2,3,1)), np, np)\n",
    "        for i=1:np\n",
    "            for j=1:np\n",
    "                if X[i,j]\n",
    "                    Yi = vec(all(Z[:,:,j] .== Z[:,i,j], dims = 1))\n",
    "                    Yj = vec(all(Z[:,i,:] .== Z[:,i,j], dims = 1))\n",
    "                    if minimum(sP[Yi]) == sP[i] && minimum(sP[Yj]) == sP[j]\n",
    "                        global cover = hcat(cover, Z[:,i,j])\n",
    "                        push!(indices, (k,P[i],P[j],true))\n",
    "                        push!(cost, 1)\n",
    "                    end\n",
    "                end\n",
    "            end\n",
    "        end\n",
    "    end\n",
    "end\n",
    "\n",
    "for k = 1:K-1\n",
    "    for i=1:np\n",
    "        if any(BRle[k,:,i])\n",
    "            global cover = hcat(cover, BRle[k,:,i])\n",
    "            push!(indices, (k,P[i],P[i],false))\n",
    "            push!(cost, n+1)\n",
    "        end\n",
    "    end\n",
    "end\n",
    "\n",
    "v = length(indices)\n",
    "\n",
    "model = JuMP.Model(GLPK.Optimizer)\n",
    "\n",
    "@variable(model, x[1:v], Bin)\n",
    "\n",
    "@constraint(model,[i=1:n], sum(x .* cover[i,:]) >= 1)\n",
    "\n",
    "@objective(model, Min, sum(x[j] * cover[i,j] * cost[j] for i=1:n for j=1:v))\n",
    "\n",
    "optimize!(model)\n",
    "\n",
    "r = round.(Int,value.(x)) .== 1\n",
    "cover[:,r] .* C\n",
    "indices[r]\n",
    "\n",
    "for j=1:v\n",
    "    if r[j]\n",
    "        X = cover[:,j]\n",
    "        k, pge, ple, certain = indices[j]\n",
    "        if certain\n",
    "            if k == 1\n",
    "                println(\"If \",join([join([\"c$i\",\" <= \",maximum(PT[cover[:,j],i])]) for i in ple] ,\" and \"),\" then category $k\")\n",
    "            elseif k == K\n",
    "                println(\"If \",join([join([\"c$i\",\" >= \",minimum(PT[cover[:,j],i])]) for i in pge] ,\" and \"),\" then category $k\")\n",
    "            else\n",
    "                println(\"If \",join(vcat([join([\"c$i\",\" <= \",maximum(PT[cover[:,j],i])]) for i in ple],[join([\"c$i\",\" >= \",minimum(PT[cover[:,j],i])]) for i in pge]) ,\" and \"),\" then category $k\")\n",
    "            end\n",
    "        else\n",
    "            #println(\"If \",join([join([\"c$i\",\" <= \",maximum(PT[cover[:,j],i])]) for i in ple if all(PT[:,i])] ,\" and \"),\" then category \",join([\"$l\" for l=k:k+1],\" or \"))\n",
    "            println(\"If \",join([join([\"c$i\",\" <= \",maximum(PT[cover[:,j],i])]) for i in ple] ,\" and \"),\" then category \",join([\"$l\" for l=k:k+1],\" or \"))\n",
    "        end\n",
    "    end\n",
    "end"
   ]
  },
  {
   "cell_type": "markdown",
   "id": "821d611c",
   "metadata": {},
   "source": [
    "## Les arbres de décisions"
   ]
  },
  {
   "cell_type": "markdown",
   "id": "582589f8",
   "metadata": {},
   "source": [
    "La structure utilisée pour chaque noeud (sauf les noeuds feuilles) des arbres de décision "
   ]
  },
  {
   "cell_type": "code",
   "execution_count": 3,
   "id": "70c4ca8d",
   "metadata": {},
   "outputs": [],
   "source": [
    "struct Node\n",
    "    feature::String # attribut\n",
    "    children::Dict # noeud fils\n",
    "end"
   ]
  },
  {
   "cell_type": "markdown",
   "id": "5dbc2206",
   "metadata": {},
   "source": [
    "### Les différentes fonctions utilisées pour les critères de sélection de l'attribut\n",
    "\n"
   ]
  },
  {
   "cell_type": "markdown",
   "id": "73c22023",
   "metadata": {},
   "source": [
    "$$$$\n",
    "Entropie : $$ entropie (T)= \\displaystyle\\sum_{C \\in D_{C_l}} - \\mathbb{P}(T(C_l) = C) * log_2(\\mathbb{P}(T(C_l) = C))$$"
   ]
  },
  {
   "cell_type": "code",
   "execution_count": 4,
   "id": "a0d73cdc",
   "metadata": {},
   "outputs": [
    {
     "data": {
      "text/plain": [
       "entropy (generic function with 1 method)"
      ]
     },
     "execution_count": 4,
     "metadata": {},
     "output_type": "execute_result"
    }
   ],
   "source": [
    "function log_2(x)\n",
    "    if x == 0\n",
    "        return x\n",
    "    else\n",
    "        return log2(x)\n",
    "    end\n",
    "end\n",
    "\n",
    "# Fonction pour calculer l'entropie\n",
    "function entropy(data, target)\n",
    "    b = combine(groupby(data, target), nrow) # proportion des différentes classes dans data\n",
    "    probabilities = b[:,2] ./ size(data)[1] # probabilité de chaque classe\n",
    "    entropy = -sum(probabilities .* log_2.(probabilities))\n",
    "    return entropy\n",
    "end"
   ]
  },
  {
   "cell_type": "markdown",
   "id": "80ebf720",
   "metadata": {},
   "source": [
    "$$$$Score d'entropie : $$E(At) = \\displaystyle\\sum _{v \\in D_{At}} \\frac{n_v}{n} entropie(T_v)$$"
   ]
  },
  {
   "cell_type": "code",
   "execution_count": 5,
   "id": "3b007b08",
   "metadata": {},
   "outputs": [
    {
     "data": {
      "text/plain": [
       "score_e (generic function with 1 method)"
      ]
     },
     "execution_count": 5,
     "metadata": {},
     "output_type": "execute_result"
    }
   ],
   "source": [
    "function score_e(data, feature, target)\n",
    "    feature_values = unique(data[:,feature]) # les différentes valeurs de l'attribut\n",
    "    weighted_entropy = 0.0\n",
    "    for value in feature_values\n",
    "        subset = filter(feature => ==(value), data) # sous-ensemble de data \n",
    "        subset_entropy = entropy(subset, target)\n",
    "        weighted_entropy += (size(subset)[1] / size(data)[1]) * subset_entropy\n",
    "    end\n",
    "    return weighted_entropy\n",
    "end"
   ]
  },
  {
   "cell_type": "markdown",
   "id": "12944905",
   "metadata": {},
   "source": [
    "$$$$\n",
    "\n",
    "Gain d'information : $$gain (At) = entropie(T) - E(At)$$"
   ]
  },
  {
   "cell_type": "code",
   "execution_count": 6,
   "id": "af0445ef",
   "metadata": {},
   "outputs": [
    {
     "data": {
      "text/plain": [
       "information_gain (generic function with 1 method)"
      ]
     },
     "execution_count": 6,
     "metadata": {},
     "output_type": "execute_result"
    }
   ],
   "source": [
    "function information_gain(data, feature, target)\n",
    "    total_entropy = entropy(data, target)\n",
    "    score = score_e(data, feature, target)\n",
    "    return total_entropy - score\n",
    "end"
   ]
  },
  {
   "cell_type": "markdown",
   "id": "4bb9ff1a",
   "metadata": {},
   "source": [
    "$$$$Indice de Gini : $$ gini (T) = 1 - \\displaystyle\\sum _{C \\in D_{C_l}} \\mathbb{P}(T(C_l) = C)^2$$ "
   ]
  },
  {
   "cell_type": "code",
   "execution_count": 7,
   "id": "05888421",
   "metadata": {},
   "outputs": [
    {
     "data": {
      "text/plain": [
       "gini_index (generic function with 1 method)"
      ]
     },
     "execution_count": 7,
     "metadata": {},
     "output_type": "execute_result"
    }
   ],
   "source": [
    "function gini_index(data, target)\n",
    "    b = combine(groupby(data, target), nrow)\n",
    "    probabilities = b[:,2] ./ size(data,1)\n",
    "    gini = 1.0 - sum(probabilities .^2)\n",
    "    return gini\n",
    "end"
   ]
  },
  {
   "cell_type": "markdown",
   "id": "f556afee",
   "metadata": {},
   "source": [
    "$$$$Score de Gini $$ S_ {gini} = \\frac{n_L*gini(T_L) + n_R*gini(T_R)}{n}$$"
   ]
  },
  {
   "cell_type": "code",
   "execution_count": 8,
   "id": "13764378",
   "metadata": {},
   "outputs": [
    {
     "data": {
      "text/plain": [
       "gini_score (generic function with 1 method)"
      ]
     },
     "execution_count": 8,
     "metadata": {},
     "output_type": "execute_result"
    }
   ],
   "source": [
    "function gini_score(data, target, feature, value)\n",
    "    left_subset = filter(feature => <=(value), data)\n",
    "    index_left = gini_index(left_subset, target)\n",
    "\n",
    "    right_subset = filter(feature => >(value), data)\n",
    "    index_right = gini_index(right_subset, target)\n",
    "\n",
    "    gini = (index_left*size(left_subset,1) + index_right*size(right_subset,1))/size(data,1)\n",
    "    return gini\n",
    "end"
   ]
  },
  {
   "cell_type": "markdown",
   "id": "38c9e0c2",
   "metadata": {},
   "source": [
    "$$$$Ranking Impurity $$I_{rank}(T)  = \\displaystyle\\sum _{j=1}^k \\displaystyle\\sum _{i=1}^j (j-i) N_j (T) N_i (T)$$ "
   ]
  },
  {
   "cell_type": "code",
   "execution_count": 9,
   "id": "b802b384",
   "metadata": {},
   "outputs": [
    {
     "data": {
      "text/plain": [
       "ranking_impurity (generic function with 1 method)"
      ]
     },
     "execution_count": 9,
     "metadata": {},
     "output_type": "execute_result"
    }
   ],
   "source": [
    "function ranking_impurity(data, target)\n",
    "    N = combine(groupby(sort(data,target), target), nrow)\n",
    "    n = size(N,1)\n",
    "    impurity = 0.0\n",
    "    for j in 1:n\n",
    "        for i in 1:j\n",
    "            impurity += (j-i)*N[j,2]*N[i,2]\n",
    "        end\n",
    "    end\n",
    "    return impurity\n",
    "end"
   ]
  },
  {
   "cell_type": "markdown",
   "id": "38cd7bc3",
   "metadata": {},
   "source": [
    "### ID3"
   ]
  },
  {
   "cell_type": "code",
   "execution_count": 10,
   "id": "e1d1b4a7",
   "metadata": {},
   "outputs": [
    {
     "data": {
      "text/plain": [
       "ID3 (generic function with 1 method)"
      ]
     },
     "execution_count": 10,
     "metadata": {},
     "output_type": "execute_result"
    }
   ],
   "source": [
    "function ID3(data, attributes, target)\n",
    "    if size(unique(data[:,target]),1) == 1\n",
    "        # Cas de base : si tous les exemples ont la même classe\n",
    "        # retourner un nœud avec cette classe\n",
    "        return data[1,target]\n",
    "    end\n",
    "    \n",
    "    if length(attributes) == 0\n",
    "        # Cas de base : si toutes les caractéristiques ont été utilisées\n",
    "        # retourner un nœud avec la classe majoritaire\n",
    "        return StatsBase.mode(data[:, target])\n",
    "    end\n",
    "    \n",
    "    # Sélection de la meilleure caractéristique pour la division\n",
    "    best_feature = \"\"\n",
    "    best_score = Inf\n",
    "    for feature in attributes\n",
    "        score = score_e(data, feature, target)\n",
    "        if best_score > score\n",
    "            best_score = score\n",
    "            best_feature = feature\n",
    "        end\n",
    "    end\n",
    "\n",
    "    if isempty(best_feature)\n",
    "        return StatsBase.mode(data[:,target])\n",
    "    end\n",
    "\n",
    "    # Création du nœud de décision avec la meilleure caractéristique\n",
    "    tree = Node(best_feature, Dict())\n",
    "    subset_attributes = filter(x -> x != best_feature, attributes)\n",
    "    \n",
    "    # Séparation des exemples en fonction des valeurs de la meilleure caractéristique\n",
    "    feature_values = sort(unique(data[:,best_feature]))\n",
    "    for value in feature_values\n",
    "        sub = filter(best_feature => ==(value), data)\n",
    "        subset = select(sub, Not(best_feature))\n",
    "        # Construction récursive de l'arbre pour le sous-ensemble\n",
    "        tree.children[value] = ID3(subset, subset_attributes, target)\n",
    "    end    \n",
    "    return tree\n",
    "end"
   ]
  },
  {
   "cell_type": "code",
   "execution_count": 11,
   "id": "d527c688",
   "metadata": {},
   "outputs": [
    {
     "data": {
      "text/plain": [
       "Node(\"Taille\", Dict{Any, Any}(2 => Node(\"Qualite\", Dict{Any, Any}(2 => 1, 3 => 3, 1 => 1)), 3 => Node(\"Prix\", Dict{Any, Any}(35 => 2, 55 => 2, 45 => 3, 30 => 3)), 1 => Node(\"Qualite\", Dict{Any, Any}(2 => 2, 3 => 2, 1 => 1))))"
      ]
     },
     "execution_count": 11,
     "metadata": {},
     "output_type": "execute_result"
    }
   ],
   "source": [
    "tree1 = ID3(data, attributes, target)"
   ]
  },
  {
   "cell_type": "markdown",
   "id": "ccdc55cd",
   "metadata": {},
   "source": [
    "### C4.5"
   ]
  },
  {
   "cell_type": "markdown",
   "id": "4550df0d",
   "metadata": {},
   "source": [
    "Fonction pour trouver le seuil optimal d'un attribut continu"
   ]
  },
  {
   "cell_type": "code",
   "execution_count": 12,
   "id": "35dda438",
   "metadata": {},
   "outputs": [
    {
     "data": {
      "text/plain": [
       "Threshold (generic function with 1 method)"
      ]
     },
     "execution_count": 12,
     "metadata": {},
     "output_type": "execute_result"
    }
   ],
   "source": [
    "function Threshold(data, attr, order, target)\n",
    "    A = sort(unique(data[:,attr]))\n",
    "    n = length(A)\n",
    "    S = zeros(n-1,1)\n",
    "    if order == \"c\"\n",
    "        for i in 1:n-1\n",
    "            S[i] = (A[i] + A[i+1])/2\n",
    "        end\n",
    "    elseif order == \"d\"\n",
    "        for i in n:-1:2\n",
    "            S[n-i+1] = (A[i] + A[i-1])/2\n",
    "        end\n",
    "    end\n",
    "    \n",
    "    best_info_gain = 0.0\n",
    "    best_threshold = -Inf\n",
    "    total_entropy = entropy(data, target)\n",
    "    attr_entropy = entropy(data, attr)\n",
    "    for i in 1:n-1\n",
    "        left_subset = filter(attr => <=(S[i]), data)\n",
    "        right_subset = filter(attr => >(S[i]), data)\n",
    "        left_entropy = entropy(left_subset, target)\n",
    "        right_entropy = entropy(right_subset, target)\n",
    "        \n",
    "        weighted_entropy = (size(left_subset,1) / size(data,1) * left_entropy) + (size(right_subset,1) / size(data,1) * right_entropy)\n",
    "        \n",
    "        # Calcule du gain d'information\n",
    "        info_gain = total_entropy - weighted_entropy\n",
    "\n",
    "        # Calcule du gain ratio\n",
    "        gain_ratio = info_gain / attr_entropy\n",
    "        \n",
    "        if gain_ratio > best_info_gain\n",
    "            best_info_gain = gain_ratio\n",
    "            best_threshold = S[i]\n",
    "        end\n",
    "    end\n",
    "    return best_threshold\n",
    "end"
   ]
  },
  {
   "cell_type": "code",
   "execution_count": 13,
   "id": "1f9a901e",
   "metadata": {},
   "outputs": [
    {
     "data": {
      "text/plain": [
       "C4_5 (generic function with 4 methods)"
      ]
     },
     "execution_count": 13,
     "metadata": {},
     "output_type": "execute_result"
    }
   ],
   "source": [
    "function C4_5(data, target, attributes, max_depth=Inf, min_samples=1, depth=0)\n",
    "    \n",
    "    # Vérifier les conditions d'arrêt (profondeur maximale ou nombre minimal d'échantillons)\n",
    "    if depth >= max_depth || nrow(data) <= min_samples\n",
    "        # Créer un nœud feuille avec la classe majoritaire dans l'ensemble de données\n",
    "        return StatsBase.mode(data[:, target])\n",
    "    end\n",
    "\n",
    "    if size(unique(data[:,target]),1) == 1\n",
    "        # Cas de base : si tous les exemples ont la même classe\n",
    "        # retourner un nœud avec cette classe\n",
    "        return data[1,target]\n",
    "    end\n",
    "    \n",
    "    if length(attributes) == 0\n",
    "        # Cas de base : si toutes les caractéristiques ont été utilisées\n",
    "        # retourner un nœud avec la classe majoritaire\n",
    "        return StatsBase.mode(data[:, target])\n",
    "    end\n",
    "\n",
    "    # Sélection de la meilleure caractéristique pour la division\n",
    "    best_info_gain = 0.0\n",
    "    best_attribute = \"\"\n",
    "    \n",
    "    for attribute in attributes\n",
    "        # Calcule du gain d'information\n",
    "        info_gain = information_gain(data, attribute, target)\n",
    "\n",
    "        # Calcule de l'entropie de l'attribut\n",
    "        attr_entropy = entropy(data, attribute)\n",
    "\n",
    "        # Calcule du gain ratio\n",
    "        gain_ratio = info_gain / attr_entropy\n",
    "\n",
    "        if gain_ratio > best_info_gain\n",
    "            best_info_gain = gain_ratio\n",
    "            best_attribute = attribute\n",
    "        end\n",
    "    end\n",
    "    \n",
    "    if isempty(best_attribute)\n",
    "        return StatsBase.mode(data[:,target])\n",
    "    end\n",
    "\n",
    "    # Création du nœud de décision avec la meilleure caractéristique\n",
    "    tree = Node(best_attribute, Dict())\n",
    "    depth += 1\n",
    "    subset_attributes = filter(x -> x != best_attribute, attributes)\n",
    "\n",
    "    # Séparation des exemples en fonction des valeurs de la meilleure caractéristique\n",
    "    feature_values = sort(unique(data[:,best_attribute]))\n",
    "    for value in feature_values\n",
    "        sub = filter(best_attribute => ==(value), data)\n",
    "        subset = select(sub, Not(best_attribute))\n",
    "        # Construction récursive de l'arbre pour le sous-ensemble\n",
    "        tree.children[value] = C4_5(subset, target, subset_attributes, max_depth, min_samples, depth)\n",
    "    end\n",
    "    \n",
    "    return tree\n",
    "end"
   ]
  },
  {
   "cell_type": "markdown",
   "id": "101132ed",
   "metadata": {},
   "source": [
    "$$$$Version pour des données continues"
   ]
  },
  {
   "cell_type": "code",
   "execution_count": 14,
   "id": "f57a8f01",
   "metadata": {},
   "outputs": [
    {
     "data": {
      "text/plain": [
       "C4_5_con (generic function with 4 methods)"
      ]
     },
     "execution_count": 14,
     "metadata": {},
     "output_type": "execute_result"
    }
   ],
   "source": [
    "# Fonction pour la recherche du meilleur seuil\n",
    "function Threshold1(data, attr, target)\n",
    "    A = sort(unique(data[:,attr]))\n",
    "    n = length(A)\n",
    "    S = zeros(n-1,1)\n",
    "    for i in 1:n-1\n",
    "        # Calcul de chaque seuil\n",
    "        S[i] = (A[i] + A[i+1])/2 \n",
    "    end\n",
    "    \n",
    "    best_info_gain = 0.0\n",
    "    best_threshold = -Inf\n",
    "    total_entropy = entropy(data, target)\n",
    "    attr_entropy = entropy(data, attr)\n",
    "    for i in 1:n-1\n",
    "        # Scission des données en deux \n",
    "        left_subset = filter(attr => <=(S[i]), data)\n",
    "        right_subset = filter(attr => >(S[i]), data)\n",
    "        # Entropie de chaque sous-ensemble\n",
    "        left_entropy = entropy(left_subset, target)\n",
    "        right_entropy = entropy(right_subset, target)\n",
    "        \n",
    "        weighted_entropy = (size(left_subset,1) / size(data,1) * left_entropy) + (size(right_subset,1) / size(data,1) * right_entropy)\n",
    "        \n",
    "        # Calcule du gain d'information\n",
    "        info_gain = total_entropy - weighted_entropy\n",
    "\n",
    "        # Calcule du gain ratio\n",
    "        gain_ratio = info_gain / attr_entropy\n",
    "        \n",
    "        if gain_ratio > best_info_gain\n",
    "            best_info_gain = gain_ratio\n",
    "            best_threshold = S[i]\n",
    "        end\n",
    "    end\n",
    "    return best_threshold, best_info_gain\n",
    "end\n",
    "\n",
    "# C4.5 pour des données continues\n",
    "function C4_5_con(data, target, attributes, max_depth=Inf, min_samples=1, depth=0)\n",
    "    \n",
    "    # Vérifier les conditions d'arrêt (profondeur maximale ou nombre minimal d'échantillons)\n",
    "    if depth >= max_depth || nrow(data) <= min_samples\n",
    "        # Créer un nœud feuille avec la classe majoritaire dans l'ensemble de données\n",
    "        return StatsBase.mode(data[:, target])\n",
    "    end\n",
    "\n",
    "    if length(unique(data[:,target])) == 1\n",
    "        # Cas de base : si tous les exemples ont la même classe\n",
    "        # retourner un nœud avec cette classe\n",
    "        return data[1,target]\n",
    "    end\n",
    "\n",
    "    # Sélection de la meilleure caractéristique pour la division\n",
    "    best_info_gain = 0.0\n",
    "    best_attribute = \"\"\n",
    "    best_threshold = -Inf\n",
    "    for attribute in attributes\n",
    "        (threshold, gain_ratio) = Threshold1(data, attribute, target)\n",
    "        if gain_ratio > best_info_gain\n",
    "            best_info_gain = gain_ratio\n",
    "            best_attribute = attribute\n",
    "            best_threshold = threshold\n",
    "        end\n",
    "    end\n",
    "    \n",
    "    if isempty(best_attribute)\n",
    "        return StatsBase.mode(data[:,target])\n",
    "    end\n",
    "\n",
    "    # Partitionner les exemples en fonction du seuil\n",
    "    left_subset = filter(best_attribute => <=(best_threshold), data)\n",
    "    right_subset = filter(best_attribute => >(best_threshold), data)\n",
    "    value = sort(unique(right_subset[:,best_attribute]))[1]\n",
    "    \n",
    "    # Création du nœud de décision avec la meilleure caractéristique\n",
    "    tree = Node(best_attribute, Dict())\n",
    "    depth += 1\n",
    "\n",
    "    # Séparation des exemples en fonction des valeurs du meilleur seuil\n",
    "    tree.children[best_threshold] = C4_5_con(left_subset, target, attributes, max_depth, min_samples, depth)\n",
    "    tree.children[value] = C4_5_con(right_subset, target, attributes, max_depth, min_samples, depth)\n",
    "    \n",
    "    return tree\n",
    "end"
   ]
  },
  {
   "cell_type": "code",
   "execution_count": 15,
   "id": "a186e04d",
   "metadata": {},
   "outputs": [
    {
     "data": {
      "text/plain": [
       "Node(\"Taille\", Dict{Any, Any}(2 => Node(\"Qualite\", Dict{Any, Any}(2 => 1, 3 => 3, 1 => 1)), 3 => Node(\"Prix\", Dict{Any, Any}(2 => Node(\"Qualite\", Dict{Any, Any}(2 => 3, 3 => 3, 1 => 2)), 1 => 2)), 1 => Node(\"Qualite\", Dict{Any, Any}(2 => 2, 3 => 2, 1 => 1))))"
      ]
     },
     "execution_count": 15,
     "metadata": {},
     "output_type": "execute_result"
    }
   ],
   "source": [
    "attr = \"Prix\"\n",
    "order = \"d\"\n",
    "\n",
    "T = Threshold(data, attr, order, target)\n",
    "DATA = copy(data)\n",
    "for i in 1:size(data,1)\n",
    "    if DATA[i,attr] <= T\n",
    "        DATA[i,attr] = 2\n",
    "    else\n",
    "        DATA[i,attr] = 1\n",
    "    end\n",
    "end\n",
    "\n",
    "tree2 = C4_5(DATA, target, attributes)"
   ]
  },
  {
   "cell_type": "markdown",
   "id": "98bcd624",
   "metadata": {},
   "source": [
    "### CART"
   ]
  },
  {
   "cell_type": "code",
   "execution_count": 16,
   "id": "7e5e6da8",
   "metadata": {},
   "outputs": [
    {
     "data": {
      "text/plain": [
       "cart (generic function with 4 methods)"
      ]
     },
     "execution_count": 16,
     "metadata": {},
     "output_type": "execute_result"
    }
   ],
   "source": [
    "function cart(data, target, attributes, max_depth=Inf, min_samples=1, depth=0)\n",
    "    # Vérifier les conditions d'arrêt (profondeur maximale ou nombre minimal d'échantillons)\n",
    "    if depth >= max_depth || nrow(data) <= min_samples\n",
    "        # Créer un nœud feuille avec la classe majoritaire dans l'ensemble de données\n",
    "        return StatsBase.mode(data[:, target])\n",
    "    end\n",
    "    \n",
    "    # Vérifier si tous les exemples appartiennent à la même classe\n",
    "    classes = unique(data[:,target])\n",
    "    if size(classes,1) == 1\n",
    "        return classes[1]\n",
    "    end\n",
    "    \n",
    "    # Sélectionner l'attribut et la valeur de découpe qui maximisent le gain de Gini\n",
    "    best_attribute, best_value, best_gini = \"\", 0, Inf\n",
    "    for attribute in attributes\n",
    "        values = sort(unique(data[:,attribute]))\n",
    "        for value in values\n",
    "            gini = gini_score(data, target, attribute, value)\n",
    "            if best_gini > gini\n",
    "                best_attribute = attribute\n",
    "                best_value = value\n",
    "                best_gini = gini\n",
    "            end\n",
    "        end\n",
    "    end\n",
    "\n",
    "    # Vérifier si les attributs sont vides\n",
    "    if isempty(best_attribute)\n",
    "        return StatsBase.mode(data[:,target])\n",
    "    end\n",
    "    \n",
    "    # Créer le noeud de décision\n",
    "    node = Node(string(best_attribute), Dict())\n",
    "    depth += 1\n",
    "    \n",
    "    # Partitionner les exemples en fonction de la valeur de découpe sélectionnée\n",
    "    left_subset = filter(best_attribute => <=(best_value), data)\n",
    "    right_subset = filter(best_attribute => >(best_value), data)\n",
    "    \n",
    "    # Construction récursive des sous-arbres gauche et droit\n",
    "    if isempty(left_subset) || isempty(right_subset)\n",
    "        return StatsBase.mode(data[:,target])\n",
    "    else\n",
    "        # Créer le noeud de décision\n",
    "        node = Node(string(best_attribute), Dict())\n",
    "        value = sort(unique(right_subset[:,best_attribute]))[1]\n",
    "        depth += 1\n",
    "        node.children[best_value] = cart(left_subset, target, attributes, max_depth, min_samples, depth)\n",
    "        node.children[value] = cart(right_subset, target, attributes, max_depth, min_samples, depth)\n",
    "    end\n",
    "    \n",
    "    return node\n",
    "end\n"
   ]
  },
  {
   "cell_type": "code",
   "execution_count": 17,
   "id": "7ae59a18",
   "metadata": {},
   "outputs": [
    {
     "data": {
      "text/plain": [
       "Node(\"Qualite\", Dict{Any, Any}(2 => Node(\"Taille\", Dict{Any, Any}(2 => Node(\"Prix\", Dict{Any, Any}(55 => Node(\"Taille\", Dict{Any, Any}(2 => 1, 3 => 2)), 45 => 3)), 1 => 2)), 1 => Node(\"Taille\", Dict{Any, Any}(2 => 1, 3 => 2))))"
      ]
     },
     "execution_count": 17,
     "metadata": {},
     "output_type": "execute_result"
    }
   ],
   "source": [
    "tree3 = cart(data, target, attributes)"
   ]
  },
  {
   "cell_type": "markdown",
   "id": "4d694f83",
   "metadata": {},
   "source": [
    "### Ranking Tree "
   ]
  },
  {
   "cell_type": "code",
   "execution_count": 18,
   "id": "26c62f45",
   "metadata": {},
   "outputs": [
    {
     "data": {
      "text/plain": [
       "RankTree (generic function with 4 methods)"
      ]
     },
     "execution_count": 18,
     "metadata": {},
     "output_type": "execute_result"
    }
   ],
   "source": [
    "function RankTree(data, target, attributes, max_depth=Inf, min_samples=1, depth=0)\n",
    "    # Vérifier les conditions d'arrêt (profondeur maximale ou nombre minimal d'échantillons)\n",
    "    if depth >= max_depth || nrow(data) <= min_samples\n",
    "        # Créer un nœud feuille avec la classe majoritaire dans l'ensemble de données\n",
    "        return StatsBase.mode(data[:, target])\n",
    "    end\n",
    "    \n",
    "    # Vérifier si tous les exemples appartiennent à la même classe\n",
    "    classes = unique(data[:,target])\n",
    "    if size(classes,1) == 1\n",
    "        return classes[1]\n",
    "    end\n",
    "    \n",
    "    # Sélectionner l'attribut et la valeur de découpe qui maximisent le gain de Gini\n",
    "    best_attribute = \"\"\n",
    "    best_value = 0\n",
    "    best_decrease = Inf\n",
    "    for attribute in attributes\n",
    "        values = sort(unique(data[:,attribute]))\n",
    "        for value in values[1:end-1]\n",
    "\n",
    "            left_child = filter(attribute => <=(value), data)\n",
    "            left_I = ranking_impurity(left_child, target)\n",
    "\n",
    "            right_child = filter(attribute => >(value), data)\n",
    "            right_I = ranking_impurity(right_child, target)\n",
    "\n",
    "            score_I = left_I + right_I\n",
    "\n",
    "            if score_I < best_decrease\n",
    "                best_decrease = score_I\n",
    "                best_attribute = attribute\n",
    "                best_value = value   \n",
    "            end\n",
    "        end\n",
    "    end\n",
    "    \n",
    "    if isempty(best_attribute)\n",
    "        return StatsBase.mode(data[:,target])\n",
    "    end\n",
    "    \n",
    "    # Partitionner les exemples en fonction de la valeur de découpe sélectionnée\n",
    "    left_subset = filter(best_attribute => <=(best_value), data)\n",
    "    right_subset = filter(best_attribute => >(best_value), data)\n",
    "    \n",
    "    # Construction récursive des sous-arbres gauche et droit\n",
    "    if isempty(left_subset) || isempty(right_subset)\n",
    "        return StatsBase.mode(data[:,target])\n",
    "    else\n",
    "        # Créer le noeud de décision\n",
    "        node = Node(string(best_attribute), Dict())\n",
    "        value = sort(unique(right_subset[:,best_attribute]))[1]\n",
    "        depth += 1\n",
    "        node.children[best_value] = RankTree(left_subset, target, attributes, max_depth, min_samples, depth)\n",
    "        node.children[value] = RankTree(right_subset, target, attributes, max_depth, min_samples, depth)\n",
    "    end\n",
    "   \n",
    "    return node\n",
    "end\n"
   ]
  },
  {
   "cell_type": "code",
   "execution_count": 19,
   "id": "b18389d7",
   "metadata": {},
   "outputs": [
    {
     "data": {
      "text/plain": [
       "Node(\"Taille\", Dict{Any, Any}(2 => Node(\"Taille\", Dict{Any, Any}(2 => Node(\"Qualite\", Dict{Any, Any}(2 => 1, 3 => 3)), 1 => Node(\"Qualite\", Dict{Any, Any}(2 => 2, 1 => 1)))), 3 => Node(\"Qualite\", Dict{Any, Any}(2 => Node(\"Prix\", Dict{Any, Any}(55 => 2, 45 => 3)), 1 => 2))))"
      ]
     },
     "execution_count": 19,
     "metadata": {},
     "output_type": "execute_result"
    }
   ],
   "source": [
    "tree4 = RankTree(data, target, attributes)"
   ]
  },
  {
   "cell_type": "markdown",
   "id": "15f307b1",
   "metadata": {},
   "source": [
    "### Fonctions de prédiction"
   ]
  },
  {
   "cell_type": "code",
   "execution_count": 20,
   "id": "95995548",
   "metadata": {},
   "outputs": [
    {
     "data": {
      "text/plain": [
       "predict_bi (generic function with 1 method)"
      ]
     },
     "execution_count": 20,
     "metadata": {},
     "output_type": "execute_result"
    }
   ],
   "source": [
    "function predict_tree(tree, example)\n",
    "    if typeof(tree)==Int\n",
    "        return tree\n",
    "    else\n",
    "        value = example[tree.feature]\n",
    "        k = []\n",
    "        for i in keys(tree.children)\n",
    "            push!(k,i)\n",
    "        end\n",
    "        i = length(k)\n",
    "        k = sort(k)\n",
    "        while value < k[i] && i!=1\n",
    "            i-=1\n",
    "        end\n",
    "        subtree = tree.children[k[i]]\n",
    "        return predict_tree(subtree, example)\n",
    "    end\n",
    "end\n",
    "\n",
    "# Arbre de décision binaire\n",
    "function predict_bi(tree, example)\n",
    "    if typeof(tree)==Int\n",
    "        return tree\n",
    "    else\n",
    "        k = []\n",
    "        for i in keys(tree.children)\n",
    "            push!(k,i)\n",
    "        end\n",
    "        k = sort(k)\n",
    "        if example[tree.feature] <= k[1]\n",
    "            return predict_bi(tree.children[k[1]], example)\n",
    "        else\n",
    "            return predict_bi(tree.children[k[2]], example)\n",
    "        end\n",
    "    end\n",
    "end"
   ]
  },
  {
   "cell_type": "markdown",
   "id": "3d601698",
   "metadata": {},
   "source": [
    "### Forêt aléatoire"
   ]
  },
  {
   "cell_type": "code",
   "execution_count": 21,
   "id": "fc8e761b",
   "metadata": {},
   "outputs": [
    {
     "data": {
      "text/plain": [
       "bootstrap_sample (generic function with 1 method)"
      ]
     },
     "execution_count": 21,
     "metadata": {},
     "output_type": "execute_result"
    }
   ],
   "source": [
    "function bootstrap_sample(data, n_samples)\n",
    "    n = size(data, 1)\n",
    "    indices = rand(1:n, n_samples)\n",
    "    return data[indices, :]\n",
    "end"
   ]
  },
  {
   "cell_type": "code",
   "execution_count": 22,
   "id": "0b368ff3",
   "metadata": {},
   "outputs": [
    {
     "data": {
      "text/plain": [
       "Forest_RI (generic function with 1 method)"
      ]
     },
     "execution_count": 22,
     "metadata": {},
     "output_type": "execute_result"
    }
   ],
   "source": [
    "function Forest_RI(data, ntree, n_samples, attributes, target)\n",
    "    trees = DataFrame()\n",
    "    trees[!,\"tree\"] = Vector{Any}(missing, ntree)\n",
    "    n = size(data, 1)\n",
    "    for i in 1:ntree\n",
    "        data_2 = bootstrap_sample(data, n_samples)\n",
    "        trees[i,\"tree\"] = cart(data_2, target, attributes)\n",
    "    end\n",
    "    return trees\n",
    "end"
   ]
  },
  {
   "cell_type": "code",
   "execution_count": 24,
   "id": "090c7f64",
   "metadata": {},
   "outputs": [
    {
     "data": {
      "text/html": [
       "<div><div style = \"float: left;\"><span>10×1 DataFrame</span></div><div style = \"clear: both;\"></div></div><div class = \"data-frame\" style = \"overflow-x: scroll;\"><table class = \"data-frame\" style = \"margin-bottom: 6px;\"><thead><tr class = \"header\"><th class = \"rowNumber\" style = \"font-weight: bold; text-align: right;\">Row</th><th style = \"text-align: left;\">tree</th></tr><tr class = \"subheader headerLastRow\"><th class = \"rowNumber\" style = \"font-weight: bold; text-align: right;\"></th><th title = \"Any\" style = \"text-align: left;\">Any</th></tr></thead><tbody><tr><td class = \"rowNumber\" style = \"font-weight: bold; text-align: right;\">1</td><td style = \"text-align: left;\">2</td></tr><tr><td class = \"rowNumber\" style = \"font-weight: bold; text-align: right;\">2</td><td style = \"text-align: left;\">Node(&quot;Prix&quot;, Dict{Any, Any}(35=&gt;Node(&quot;Taille&quot;, Dict{Any, Any}(3=&gt;3, 1=&gt;1)), 45=&gt;2))</td></tr><tr><td class = \"rowNumber\" style = \"font-weight: bold; text-align: right;\">3</td><td style = \"text-align: left;\">Node(&quot;Taille&quot;, Dict{Any, Any}(2=&gt;Node(&quot;Qualite&quot;, Dict{Any, Any}(2=&gt;1, 3=&gt;3)), 3=&gt;Node(&quot;Prix&quot;, Dict{Any, Any}(55=&gt;2, 30=&gt;3))))</td></tr><tr><td class = \"rowNumber\" style = \"font-weight: bold; text-align: right;\">4</td><td style = \"text-align: left;\">Node(&quot;Taille&quot;, Dict{Any, Any}(2=&gt;Node(&quot;Qualite&quot;, Dict{Any, Any}(2=&gt;1, 3=&gt;3)), 3=&gt;2))</td></tr><tr><td class = \"rowNumber\" style = \"font-weight: bold; text-align: right;\">5</td><td style = \"text-align: left;\">Node(&quot;Taille&quot;, Dict{Any, Any}(2=&gt;3, 1=&gt;2))</td></tr><tr><td class = \"rowNumber\" style = \"font-weight: bold; text-align: right;\">6</td><td style = \"text-align: left;\">Node(&quot;Qualite&quot;, Dict{Any, Any}(2=&gt;Node(&quot;Taille&quot;, Dict{Any, Any}(2=&gt;Node(&quot;Prix&quot;, Dict{Any, Any}(55=&gt;2, 45=&gt;3)), 1=&gt;2)), 1=&gt;1))</td></tr><tr><td class = \"rowNumber\" style = \"font-weight: bold; text-align: right;\">7</td><td style = \"text-align: left;\">Node(&quot;Taille&quot;, Dict{Any, Any}(3=&gt;Node(&quot;Qualite&quot;, Dict{Any, Any}(2=&gt;3, 1=&gt;2)), 1=&gt;2))</td></tr><tr><td class = \"rowNumber\" style = \"font-weight: bold; text-align: right;\">8</td><td style = \"text-align: left;\">Node(&quot;Qualite&quot;, Dict{Any, Any}(2=&gt;Node(&quot;Taille&quot;, Dict{Any, Any}(2=&gt;Node(&quot;Taille&quot;, Dict{Any, Any}(2=&gt;1, 1=&gt;2)), 3=&gt;2)), 3=&gt;3))</td></tr><tr><td class = \"rowNumber\" style = \"font-weight: bold; text-align: right;\">9</td><td style = \"text-align: left;\">Node(&quot;Qualite&quot;, Dict{Any, Any}(3=&gt;3, 1=&gt;1))</td></tr><tr><td class = \"rowNumber\" style = \"font-weight: bold; text-align: right;\">10</td><td style = \"text-align: left;\">Node(&quot;Qualite&quot;, Dict{Any, Any}(2=&gt;Node(&quot;Taille&quot;, Dict{Any, Any}(3=&gt;2, 1=&gt;Node(&quot;Qualite&quot;, Dict{Any, Any}(2=&gt;2, 1=&gt;1)))), 3=&gt;3))</td></tr></tbody></table></div>"
      ],
      "text/latex": [
       "\\begin{tabular}{r|c}\n",
       "\t& tree\\\\\n",
       "\t\\hline\n",
       "\t& Any\\\\\n",
       "\t\\hline\n",
       "\t1 & 2 \\\\\n",
       "\t2 & Node(\"Prix\", Dict\\{Any, Any\\}(35=>Node(\"Taille\", Dict\\{Any, Any\\}(3=>3, 1=>1)), 45=>2)) \\\\\n",
       "\t3 & Node(\"Taille\", Dict\\{Any, Any\\}(2=>Node(\"Qualite\", Dict\\{Any, Any\\}(2=>1, 3=>3)), 3=>Node(\"Prix\", Dict\\{Any, Any\\}(55=>2, 30=>3)))) \\\\\n",
       "\t4 & Node(\"Taille\", Dict\\{Any, Any\\}(2=>Node(\"Qualite\", Dict\\{Any, Any\\}(2=>1, 3=>3)), 3=>2)) \\\\\n",
       "\t5 & Node(\"Taille\", Dict\\{Any, Any\\}(2=>3, 1=>2)) \\\\\n",
       "\t6 & Node(\"Qualite\", Dict\\{Any, Any\\}(2=>Node(\"Taille\", Dict\\{Any, Any\\}(2=>Node(\"Prix\", Dict\\{Any, Any\\}(55=>2, 45=>3)), 1=>2)), 1=>1)) \\\\\n",
       "\t7 & Node(\"Taille\", Dict\\{Any, Any\\}(3=>Node(\"Qualite\", Dict\\{Any, Any\\}(2=>3, 1=>2)), 1=>2)) \\\\\n",
       "\t8 & Node(\"Qualite\", Dict\\{Any, Any\\}(2=>Node(\"Taille\", Dict\\{Any, Any\\}(2=>Node(\"Taille\", Dict\\{Any, Any\\}(2=>1, 1=>2)), 3=>2)), 3=>3)) \\\\\n",
       "\t9 & Node(\"Qualite\", Dict\\{Any, Any\\}(3=>3, 1=>1)) \\\\\n",
       "\t10 & Node(\"Qualite\", Dict\\{Any, Any\\}(2=>Node(\"Taille\", Dict\\{Any, Any\\}(3=>2, 1=>Node(\"Qualite\", Dict\\{Any, Any\\}(2=>2, 1=>1)))), 3=>3)) \\\\\n",
       "\\end{tabular}\n"
      ],
      "text/plain": [
       "\u001b[1m10×1 DataFrame\u001b[0m\n",
       "\u001b[1m Row \u001b[0m│\u001b[1m tree                              \u001b[0m\n",
       "     │\u001b[90m Any                               \u001b[0m\n",
       "─────┼───────────────────────────────────\n",
       "   1 │ 2\n",
       "   2 │ Node(\"Prix\", Dict{Any, Any}(35=>…\n",
       "   3 │ Node(\"Taille\", Dict{Any, Any}(2=…\n",
       "   4 │ Node(\"Taille\", Dict{Any, Any}(2=…\n",
       "   5 │ Node(\"Taille\", Dict{Any, Any}(2=…\n",
       "   6 │ Node(\"Qualite\", Dict{Any, Any}(2…\n",
       "   7 │ Node(\"Taille\", Dict{Any, Any}(3=…\n",
       "   8 │ Node(\"Qualite\", Dict{Any, Any}(2…\n",
       "   9 │ Node(\"Qualite\", Dict{Any, Any}(3…\n",
       "  10 │ Node(\"Qualite\", Dict{Any, Any}(2…"
      ]
     },
     "execution_count": 24,
     "metadata": {},
     "output_type": "execute_result"
    }
   ],
   "source": [
    "forest1 = Forest_RI(data, 10, 5, attributes, target)"
   ]
  },
  {
   "cell_type": "markdown",
   "id": "ba945b32",
   "metadata": {},
   "source": [
    "$$$$Fonction de prédiction à partir d'une forêt aléatoire"
   ]
  },
  {
   "cell_type": "code",
   "execution_count": 25,
   "id": "10bc768b",
   "metadata": {},
   "outputs": [
    {
     "data": {
      "text/plain": [
       "predict_rf (generic function with 1 method)"
      ]
     },
     "execution_count": 25,
     "metadata": {},
     "output_type": "execute_result"
    }
   ],
   "source": [
    "function predict_rf(trees, example)\n",
    "    ntree = size(trees,1)\n",
    "    pred = zeros(Int, ntree)\n",
    "    \n",
    "    for i in 1:ntree\n",
    "        pred[i] = predict_bi(trees[i,1], example)\n",
    "    end\n",
    "    \n",
    "    return StatsBase.mode(pred)\n",
    "end"
   ]
  },
  {
   "cell_type": "markdown",
   "id": "a2af51ec",
   "metadata": {},
   "source": [
    "### Monotonie"
   ]
  },
  {
   "cell_type": "markdown",
   "id": "fa4d3bfb",
   "metadata": {},
   "source": [
    "$$$$L’indice de non-monotonie : $$\\text{INM}(arbre) = \\frac{\\sum _{i=1}^N \\sum _{j=1}^N m_{i,j}}{N^2 - N}$$\n",
    "\n",
    "Où $m_{i,j}$ est égale à 1 si la paire de branches $(b_i,\\, b_j)$ est non-monotone et $N$ est le nombre total de branches."
   ]
  },
  {
   "cell_type": "code",
   "execution_count": 26,
   "id": "2a0e149f",
   "metadata": {},
   "outputs": [
    {
     "data": {
      "text/plain": [
       "NMI (generic function with 1 method)"
      ]
     },
     "execution_count": 26,
     "metadata": {},
     "output_type": "execute_result"
    }
   ],
   "source": [
    "function NMI(tab)\n",
    "    (n,m) = size(tab)\n",
    "    W = 0\n",
    "    for i in 1:n-1\n",
    "        for j in i+1:n\n",
    "            inf = 0\n",
    "            sup = 0\n",
    "            eq = 0\n",
    "            for k in 1:m-1\n",
    "                if (!ismissing(tab[i,k]) && !ismissing(tab[j,k]))\n",
    "                    if tab[i,k] < tab[j,k]\n",
    "                        inf += 1\n",
    "                    elseif tab[i,k] > tab[j,k]\n",
    "                        sup += 1\n",
    "                    else\n",
    "                        eq += 1\n",
    "                    end\n",
    "                end\n",
    "            end\n",
    "            if (sup==0 && tab[i,m] > tab[j,m])\n",
    "                W += 1\n",
    "            elseif (inf == 0 && tab[i,m] < tab[j,m])\n",
    "                W += 1\n",
    "            elseif (eq==m-1 && tab[i,m] != tab[j,m])\n",
    "                W += 1\n",
    "            end\n",
    "        end\n",
    "    end\n",
    "    return W*2 / (n^2-n)\n",
    "end"
   ]
  },
  {
   "cell_type": "markdown",
   "id": "1f6b0d2a",
   "metadata": {},
   "source": [
    "$$$$\n",
    "\n",
    "Le score d'ambiguïté de l'ordre  : \n",
    "\\begin{cases}\n",
    "0 &\\quad \\text{si } INM = 0 \\\\\n",
    "- (\\text{log}_2 INM)^{-1} &\\quad sinon\n",
    "  \\end{cases}"
   ]
  },
  {
   "cell_type": "code",
   "execution_count": 27,
   "id": "4a9c1c7a",
   "metadata": {},
   "outputs": [
    {
     "data": {
      "text/plain": [
       "score_a (generic function with 1 method)"
      ]
     },
     "execution_count": 27,
     "metadata": {},
     "output_type": "execute_result"
    }
   ],
   "source": [
    "function score_a(INM)\n",
    "    if INM == 0\n",
    "        return 0\n",
    "    else\n",
    "        return -log2(INM)^(-1)\n",
    "    end\n",
    "end    "
   ]
  },
  {
   "cell_type": "markdown",
   "id": "1bd851b4",
   "metadata": {},
   "source": [
    "$$$$Fonction pour pouvoir aplliquer la fonction de l'indice de non-monotonie à un arbre de décision"
   ]
  },
  {
   "cell_type": "code",
   "execution_count": 28,
   "id": "a345ab84",
   "metadata": {},
   "outputs": [
    {
     "data": {
      "text/plain": [
       "data_tree (generic function with 1 method)"
      ]
     },
     "execution_count": 28,
     "metadata": {},
     "output_type": "execute_result"
    }
   ],
   "source": [
    "# Fonction récursive pour extraire les différentes branches de l'arbre\n",
    "function branchs(node, path, paths)\n",
    "    if typeof(node)==Int\n",
    "        current_path = [path..., node]\n",
    "        push!(paths, [current_path])\n",
    "    else\n",
    "        current_path = [path..., node.feature]\n",
    "        for (value, child_node) in pairs(node.children)\n",
    "            branchs(child_node, [current_path..., value], paths)\n",
    "        end\n",
    "    end\n",
    "end\n",
    "\n",
    "# Fonction pour extraire les éléments des branches dans un tableau \n",
    "function data_tree(paths, attributes, target)\n",
    "\n",
    "    n = size(paths,1)\n",
    "    tab = DataFrame()\n",
    "    for value in attributes\n",
    "        tab[!,value] = Vector{Any}(missing, n)\n",
    "    end\n",
    "    tab[!, target] = Vector{Any}(missing, n)\n",
    "    \n",
    "    for i in 1:n\n",
    "        m = length(paths[i,1])\n",
    "        for j in 1:Int((m-1)/2)\n",
    "            tab[i, paths[i,1][2*j-1]] = paths[i,1][2*j]\n",
    "        end\n",
    "        tab[i,target] = paths[i,1][m]\n",
    "    end\n",
    "\n",
    "    return tab\n",
    "end"
   ]
  },
  {
   "cell_type": "markdown",
   "id": "e1902a78",
   "metadata": {},
   "source": [
    "### CART monotone"
   ]
  },
  {
   "cell_type": "code",
   "execution_count": 29,
   "id": "310c05de",
   "metadata": {},
   "outputs": [
    {
     "data": {
      "text/plain": [
       "mon_cart (generic function with 5 methods)"
      ]
     },
     "execution_count": 29,
     "metadata": {},
     "output_type": "execute_result"
    }
   ],
   "source": [
    "function mon_cart(data, target, attributes, path, branch, R=1, max_depth=Inf, min_samples=1, depth=0)\n",
    "    # Vérifier les conditions d'arrêt (profondeur maximale ou nombre minimal d'échantillons)\n",
    "    if depth >= max_depth || nrow(data) <= min_samples\n",
    "        majority_class = StatsBase.mode(data[:,target])\n",
    "        current_path = [path..., majority_class]\n",
    "        push!(branch, [current_path])\n",
    "        # Créer un nœud feuille avec la classe majoritaire dans l'ensemble de données\n",
    "        return majority_class\n",
    "    end\n",
    "    # Vérifier si tous les exemples appartiennent à la même classe\n",
    "    classes = unique(data[:,target])\n",
    "    if length(classes) == 1\n",
    "        current_path = [path..., classes[1]]\n",
    "        push!(branch, [current_path])\n",
    "        return classes[1]\n",
    "    end\n",
    "       \n",
    "    if !isempty(branch)\n",
    "        tab = data_tree(branch, attributes, target)\n",
    "        push!(tab, Vector{Any}(missing, size(tab,2)))\n",
    "    else\n",
    "        tab = DataFrame()\n",
    "        for value in attributes\n",
    "            tab[!,value] = Vector{Any}(missing, 1)\n",
    "        end\n",
    "        tab[!, target] = Vector{Any}(missing, 1)\n",
    "    end\n",
    "    \n",
    "    # Sélectionner l'attribut et la valeur de découpe qui maximisent le score d'ambiguïté totale\n",
    "    best_attribute = \"\"\n",
    "    best_value = 0\n",
    "    best_score = Inf\n",
    "    for attribute in attributes\n",
    "        T = copy(tab)\n",
    "        push!(T, Vector{Any}(missing, size(T,2)))\n",
    "        if !isempty(path)\n",
    "            m = length(path)\n",
    "            for j in 1:Int((m)/2)\n",
    "                T[end-1:end, path[2*j-1]] .= path[2*j]\n",
    "            end\n",
    "        end\n",
    "        values = sort(unique(data[:,attribute]))\n",
    "        n = size(values,1)\n",
    "        for i in 1:n-1\n",
    "            T[end-1,attribute] = values[i]\n",
    "            left_child = filter(attribute => <=(values[i]), data)\n",
    "            T[end-1,target] = StatsBase.mode(left_child[:,target])\n",
    "\n",
    "            right_child = filter(attribute => >(values[i]), data)\n",
    "            T[end,attribute] = values[i+1]\n",
    "            T[end,target] = StatsBase.mode(right_child[:,target])\n",
    "            \n",
    "            index_left = gini_index(left_child, target)\n",
    "            index_right = gini_index(right_child, target)\n",
    "\n",
    "            gini = (index_left*size(left_child,1) + index_right*size(right_child,1))/size(data,1)\n",
    "            INM = NMI(T)\n",
    "            score = gini + R*score_a(INM)\n",
    "            if best_score > score\n",
    "                best_attribute = attribute\n",
    "                best_value = values[i]\n",
    "                best_score = score\n",
    "            end\n",
    "        end\n",
    "    end\n",
    "    \n",
    "    if isempty(best_attribute)\n",
    "        majority_class = StatsBase.mode(data[:,target])\n",
    "        current_path = [path..., majority_class]\n",
    "        push!(branch, [current_path])\n",
    "        return majority_class\n",
    "    end\n",
    "\n",
    "    # Partitionner les exemples en fonction de la valeur de découpe sélectionnée\n",
    "    left_subset = filter(best_attribute => <=(best_value), data)\n",
    "    right_subset = filter(best_attribute => >(best_value), data)\n",
    "    \n",
    "    # Construction récursive des sous-arbres gauche et droit\n",
    "    if isempty(left_subset) || isempty(right_subset)\n",
    "        return StatsBase.mode(data[:,target])\n",
    "    else\n",
    "        # Créer le noeud de décision\n",
    "        node = Node(string(best_attribute), Dict())\n",
    "        value = sort(unique(right_subset[:,best_attribute]))[1]\n",
    "        depth += 1\n",
    "        current_path = [path..., best_attribute]\n",
    "        node.children[best_value] = mon_cart(left_subset, target, attributes, [current_path..., best_value], branch, R, max_depth, min_samples, depth)\n",
    "        node.children[value] = mon_cart(right_subset, target, attributes, [current_path..., value], branch, R, max_depth, min_samples, depth)\n",
    "    end\n",
    "    \n",
    "    return node\n",
    "end"
   ]
  },
  {
   "cell_type": "code",
   "execution_count": 30,
   "id": "fbdab054",
   "metadata": {},
   "outputs": [],
   "source": [
    "data_or = DataFrame(Taille=[2, 3, 1, 2, 3, 1, 1, 2, 3, 3],\n",
    "Qualite=[3, 3, 3, 2, 1, 2, 1, 1, 2, 2],\n",
    "Prix=[2, 2, 2, 1, 3, 4, 3, 4, 4, 1],\n",
    "Choix=[3, 3, 2, 1, 2, 2, 1, 1, 3, 2]);"
   ]
  },
  {
   "cell_type": "code",
   "execution_count": 31,
   "id": "10984534",
   "metadata": {
    "scrolled": false
   },
   "outputs": [
    {
     "data": {
      "text/plain": [
       "Node(\"Prix\", Dict{Any, Any}(2 => Node(\"Qualite\", Dict{Any, Any}(2 => Node(\"Taille\", Dict{Any, Any}(2 => 1, 3 => 2)), 3 => Node(\"Taille\", Dict{Any, Any}(2 => 3, 1 => 2)))), 3 => Node(\"Qualite\", Dict{Any, Any}(2 => Node(\"Taille\", Dict{Any, Any}(3 => 3, 1 => 2)), 1 => Node(\"Taille\", Dict{Any, Any}(2 => 1, 3 => 2))))))"
      ]
     },
     "execution_count": 31,
     "metadata": {},
     "output_type": "execute_result"
    }
   ],
   "source": [
    "branch = DataFrame(col=Vector())\n",
    "tree5 = mon_cart(data_or, target, attributes, [], branch)"
   ]
  },
  {
   "cell_type": "markdown",
   "id": "e9ccaf6c",
   "metadata": {},
   "source": [
    "### ID3 monotone"
   ]
  },
  {
   "cell_type": "code",
   "execution_count": 32,
   "id": "0279134b",
   "metadata": {},
   "outputs": [
    {
     "data": {
      "text/plain": [
       "MON_ID3 (generic function with 5 methods)"
      ]
     },
     "execution_count": 32,
     "metadata": {},
     "output_type": "execute_result"
    }
   ],
   "source": [
    "function MON_ID3(data, target, attributes, path, branch, R=1, max_depth=Inf, min_samples=1, depth=0)\n",
    "    # Vérifier les conditions d'arrêt (profondeur maximale ou nombre minimal d'échantillons)\n",
    "    if depth >= max_depth || nrow(data) <= min_samples\n",
    "        current_path = [path..., StatsBase.mode(data[:, target])]\n",
    "        push!(branch, [current_path])\n",
    "        # Créer un nœud feuille avec la classe majoritaire dans l'ensemble de données\n",
    "        return StatsBase.mode(data[:, target])\n",
    "    end\n",
    "\n",
    "    if  size(unique(data[:,target]),1) == 1\n",
    "        # Cas de base : si tous les exemples ont la même classe\n",
    "        current_path = [path..., data[1,target]]\n",
    "        push!(branch, [current_path])\n",
    "        # retourner un nœud avec cette classe\n",
    "        return data[1,target]\n",
    "    end\n",
    "    \n",
    "    if length(attributes) == 0\n",
    "        # Cas de base : si toutes les caractéristiques ont été utilisées\n",
    "        current_path = [path..., StatsBase.mode(data[:, target])]\n",
    "        push!(branch, [current_path])\n",
    "        # retourner un nœud avec la classe majoritaire\n",
    "        return StatsBase.mode(data[:, target])\n",
    "    end\n",
    "    \n",
    "    if !isempty(branch)\n",
    "        tab = data_tree(branch, attributes, target)\n",
    "        push!(tab, Vector{Any}(missing, size(tab,2)))\n",
    "    else\n",
    "        tab = DataFrame()\n",
    "        for value in attributes\n",
    "            tab[!,value] = Vector{Any}(missing, 1)\n",
    "        end\n",
    "        tab[!, target] = Vector{Any}(missing, 1)\n",
    "    end\n",
    "    \n",
    "    # Sélection de la meilleure caractéristique pour la division\n",
    "    best_feature = \"\"\n",
    "    best_score = Inf\n",
    "    for feature in attributes\n",
    "        values = unique(data[:,feature])\n",
    "        n = length(values)\n",
    "        if n != 1\n",
    "            T = copy(tab)\n",
    "            for i in 1:n-1\n",
    "                push!(T, zeros(size(T,2)))\n",
    "            end\n",
    "            if !isempty(path)\n",
    "                m = length(path)\n",
    "                for j in 1:Int((m)/2)\n",
    "                    T[end-n+1:end, path[2*j-1]] .= path[2*j]\n",
    "                end\n",
    "            end\n",
    "            score = 0.0\n",
    "            for i in 1:n\n",
    "                T[end-i+1,feature] = values[i]\n",
    "                subset = filter(feature => ==(values[i]), data)\n",
    "                T[end-i+1,target] = StatsBase.mode(subset[:,feature])\n",
    "                score += (size(subset,1) / size(data,1)) * entropy(subset, target)\n",
    "            end\n",
    "        \n",
    "            INM = NMI(T)\n",
    "            score += R*score_a(INM)\n",
    "            if best_score > score\n",
    "                best_score = score\n",
    "                best_feature = feature\n",
    "            end\n",
    "        end\n",
    "    end\n",
    "\n",
    "    if isempty(best_feature)\n",
    "        majority_class = StatsBase.mode(data[:,target])\n",
    "        current_path = [path..., majority_class]\n",
    "        push!(branch, [current_path])\n",
    "        return majority_class\n",
    "    end\n",
    "\n",
    "    # Création du nœud de décision avec la meilleure caractéristique\n",
    "    tree = Node(best_feature, Dict())\n",
    "    depth += 1\n",
    "    current_path = [path..., best_feature]\n",
    "    \n",
    "    # Séparation des exemples en fonction des valeurs de la meilleure caractéristique\n",
    "    feature_values = sort(unique(data[:,best_feature]))\n",
    "    for value in feature_values\n",
    "        subset = filter(best_feature => ==(value), data)\n",
    "        # Construction récursive de l'arbre pour le sous-ensemble\n",
    "        tree.children[value] = MON_ID3(subset, target, attributes, [current_path..., value], branch, R, max_depth, min_samples, depth)\n",
    "    end    \n",
    "    return tree\n",
    "end"
   ]
  },
  {
   "cell_type": "code",
   "execution_count": 33,
   "id": "e64f3640",
   "metadata": {},
   "outputs": [
    {
     "data": {
      "text/plain": [
       "Node(\"Taille\", Dict{Any, Any}(2 => Node(\"Qualite\", Dict{Any, Any}(2 => 1, 3 => 3, 1 => 1)), 3 => Node(\"Prix\", Dict{Any, Any}(4 => 3, 2 => 3, 3 => 2, 1 => 2)), 1 => Node(\"Qualite\", Dict{Any, Any}(2 => 2, 3 => 2, 1 => 1))))"
      ]
     },
     "execution_count": 33,
     "metadata": {},
     "output_type": "execute_result"
    }
   ],
   "source": [
    "branch = DataFrame(col=Vector())\n",
    "tree6 = MON_ID3(data_or, target, attributes, [], branch, 2)"
   ]
  },
  {
   "cell_type": "markdown",
   "id": "d6e1feaf",
   "metadata": {},
   "source": [
    "### C4.5 monotone"
   ]
  },
  {
   "cell_type": "code",
   "execution_count": 34,
   "id": "d451ee64",
   "metadata": {},
   "outputs": [
    {
     "data": {
      "text/plain": [
       "MON_C4_5 (generic function with 5 methods)"
      ]
     },
     "execution_count": 34,
     "metadata": {},
     "output_type": "execute_result"
    }
   ],
   "source": [
    "function MON_C4_5(data, target, attributes, path, branch, R=1, max_depth=Inf, min_samples=1, depth=0)\n",
    "    \n",
    "    # Vérifier les conditions d'arrêt (profondeur maximale ou nombre minimal d'échantillons)\n",
    "    if depth >= max_depth || nrow(data) <= min_samples\n",
    "        current_path = [path..., StatsBase.mode(data[:, target])]\n",
    "        push!(branch, [current_path])\n",
    "        # Créer un nœud feuille avec la classe majoritaire dans l'ensemble de données\n",
    "        return StatsBase.mode(data[:, target])\n",
    "    end\n",
    "\n",
    "    if size(unique(data[:,target]),1) == 1\n",
    "        # Cas de base : si tous les exemples ont la même classe\n",
    "        current_path = [path..., data[1,target]]\n",
    "        push!(branch, [current_path])\n",
    "        # retourner un nœud avec cette classe\n",
    "        return data[1,target]\n",
    "    end\n",
    "    \n",
    "    if !isempty(branch)\n",
    "        tab = data_tree(branch, attributes, target)\n",
    "        push!(tab, Vector{Any}(missing, size(tab,2)))\n",
    "    else\n",
    "        tab = DataFrame()\n",
    "        for value in attributes\n",
    "            tab[!,value] = Vector{Any}(missing, 1)\n",
    "        end\n",
    "        tab[!, target] = Vector{Any}(missing, 1)\n",
    "    end\n",
    "\n",
    "    # Sélection de la meilleure caractéristique pour la division\n",
    "    best_info_gain = 0.0\n",
    "    best_attribute = \"\"\n",
    "    total_entropy = entropy(data, target)\n",
    "    for attribute in attributes\n",
    "        values = unique(data[:,attribute])\n",
    "        n = size(values,1)\n",
    "        if n != 1\n",
    "            T = copy(tab)\n",
    "            for i in 1:n-1\n",
    "                push!(T, Vector{Any}(missing, size(T,2)))\n",
    "            end\n",
    "            if !isempty(path)\n",
    "                m = length(path)\n",
    "                for j in 1:Int((m)/2)\n",
    "                    T[end-n+1:end, path[2*j-1]] .= path[2*j]\n",
    "                end\n",
    "            end\n",
    "            score = 0.0\n",
    "            for i in 1:n\n",
    "                T[end-i+1,attribute] = values[i]\n",
    "                subset = filter(attribute => ==(values[i]), data)\n",
    "                T[end-i+1,target] = StatsBase.mode(subset[:,attribute])\n",
    "                score += (size(subset,1) / size(data,1)) * entropy(subset, target)\n",
    "            end\n",
    "        \n",
    "            INM = NMI(T)\n",
    "            # Calcule du gain d'information\n",
    "            info_gain = total_entropy - (score + R*score_a(INM))\n",
    "        \n",
    "            # Calcule de l'entropie de l'attribut\n",
    "            attr_entropy = entropy(data, attribute)\n",
    "\n",
    "            # Calcule du gain ratio\n",
    "            gain_ratio = info_gain / attr_entropy\n",
    "        \n",
    "            if gain_ratio > best_info_gain\n",
    "                best_info_gain = gain_ratio\n",
    "                best_attribute = attribute\n",
    "            end\n",
    "        end\n",
    "    end\n",
    "\n",
    "    if isempty(best_attribute)\n",
    "        majority_class = StatsBase.mode(data[:,target])\n",
    "        current_path = [path..., majority_class]\n",
    "        push!(branch, [current_path])\n",
    "        return majority_class\n",
    "    end\n",
    "\n",
    "    # Création du nœud de décision avec la meilleure caractéristique\n",
    "    tree = Node(best_attribute, Dict())\n",
    "    depth += 1\n",
    "    current_path = [path..., best_attribute]\n",
    "\n",
    "    # Séparation des exemples en fonction des valeurs de la meilleure caractéristique\n",
    "    feature_values = sort(unique(data[:,best_attribute]))\n",
    "    for value in feature_values\n",
    "        subset = filter(best_attribute => ==(value), data)\n",
    "        # Construction récursive de l'arbre pour le sous-ensemble\n",
    "        tree.children[value] = MON_C4_5(subset, target, attributes, [current_path..., value], branch, R, max_depth, min_samples, depth)\n",
    "    end\n",
    "    \n",
    "    return tree\n",
    "end"
   ]
  },
  {
   "cell_type": "markdown",
   "id": "2fee0f04",
   "metadata": {},
   "source": [
    "$$$$Version pour des données continues croissantes"
   ]
  },
  {
   "cell_type": "code",
   "execution_count": 35,
   "id": "3d2ecea5",
   "metadata": {},
   "outputs": [
    {
     "data": {
      "text/plain": [
       "MON_C4_5_con (generic function with 5 methods)"
      ]
     },
     "execution_count": 35,
     "metadata": {},
     "output_type": "execute_result"
    }
   ],
   "source": [
    "function Threshold2(data, attr, target, T)\n",
    "    A = sort(unique(data[:,attr]))\n",
    "    n = length(A)\n",
    "    S = zeros(n,1) \n",
    "    for i in 1:n-1\n",
    "        S[i] = (A[i] + A[i+1])/2 # les différents seuils\n",
    "    end\n",
    "    S[n] = A[n]\n",
    "    best_info_gain = Inf\n",
    "    best_threshold = -Inf\n",
    "    total_entropy = entropy(data, target)\n",
    "    attr_entropy = entropy(data, attr)\n",
    "    for i in 1:n-1\n",
    "        # Les branches en construction\n",
    "        T[end-1,attr] = S[i]\n",
    "        T[end,attr] = S[i+1]\n",
    "        # Les sous-ensembles\n",
    "        left_subset = filter(attr => <=(S[i]), data)\n",
    "        right_subset = filter(attr => >(S[i]), data)\n",
    "        # Le noeud feuille des branches en construction\n",
    "        T[end-1,target] = StatsBase.mode(left_subset[:,target])\n",
    "        T[end,target] = StatsBase.mode(right_subset[:,target])\n",
    "        \n",
    "        left_entropy = entropy(left_subset, target)\n",
    "        right_entropy = entropy(right_subset, target)\n",
    "        # Calcul de l'indice de non-monotonie\n",
    "        INM = NMI(T)\n",
    "        \n",
    "        weighted_entropy = (size(left_subset,1) / size(data,1) * left_entropy) + (size(right_subset,1) / size(data,1) * right_entropy)\n",
    "        # Calcule du gain d'information\n",
    "        info_gain = weighted_entropy + R*score_a(INM)\n",
    "        # Calcule du gain ratio\n",
    "        gain_ratio = info_gain / attr_entropy\n",
    "        \n",
    "        if best_info_gain > gain_ratio\n",
    "            best_info_gain = gain_ratio\n",
    "            best_threshold = S[i]\n",
    "        end\n",
    "    end\n",
    "    return best_threshold, best_info_gain\n",
    "end\n",
    "\n",
    "# Fonction pour construire l'arbre de décision\n",
    "function MON_C4_5_con(data, target, attributes, path, branch, R=1, max_depth=Inf, min_samples=1, depth=0)\n",
    "    # Vérifier les conditions d'arrêt (profondeur maximale ou nombre minimal d'échantillons)\n",
    "    if depth >= max_depth || nrow(data) <= min_samples\n",
    "        current_path = [path..., StatsBase.mode(data[:, target])]\n",
    "        push!(branch, [current_path])\n",
    "        # Créer un nœud feuille avec la classe majoritaire dans l'ensemble de données\n",
    "        return StatsBase.mode(data[:, target])\n",
    "    end\n",
    "\n",
    "    if size(unique(data[:,target]),1) == 1\n",
    "        # Cas de base : si tous les exemples ont la même classe\n",
    "        current_path = [path..., data[1,target]]\n",
    "        push!(branch, [current_path])\n",
    "        # retourner un nœud avec cette classe\n",
    "        return data[1,target]\n",
    "    end\n",
    "    \n",
    "    if !isempty(branch)\n",
    "        # Transformation de l'arbre déjà construit en tableau de branches\n",
    "        tab = data_tree(branch, attributes, target)\n",
    "        push!(tab, Vector{Any}(missing, size(tab,2)))\n",
    "    else\n",
    "        # Création d'un tableau de branches\n",
    "        tab = DataFrame()\n",
    "        for value in attributes\n",
    "            tab[!,value] = Vector{Any}(missing,1)\n",
    "        end\n",
    "        tab[!, target] =  Vector{Any}(missing,1)\n",
    "    end\n",
    "\n",
    "    # Sélection de la meilleure caractéristique pour la division\n",
    "    best_info_gain = Inf\n",
    "    best_attribute = \"\"\n",
    "    best_threshold = -Inf\n",
    "    for attribute in attributes\n",
    "        \n",
    "        T = copy(tab)\n",
    "        push!(T, Vector{Any}(missing, size(T,2)))\n",
    "        # Ajout des branches en construction dans le tableau de branches\n",
    "        if !isempty(path)\n",
    "            m = length(path)\n",
    "            for j in 1:Int((m)/2)\n",
    "                T[end-1:end, path[2*j-1]] .= path[2*j]\n",
    "            end\n",
    "        end\n",
    "        # Calcul du meilleur seuil\n",
    "        (threshold, gain_ratio) = Threshold2(data, attribute, target, T)\n",
    "        if best_info_gain > gain_ratio\n",
    "            best_info_gain = gain_ratio\n",
    "            best_attribute = attribute\n",
    "            best_threshold = threshold\n",
    "        end\n",
    "    end\n",
    "\n",
    "    if isempty(best_attribute)\n",
    "        # Aucun attribut n'est sélectionné\n",
    "        majority_class = StatsBase.mode(data[:,target])\n",
    "        current_path = [path..., majority_class]\n",
    "        push!(branch, [current_path])\n",
    "        return majority_class\n",
    "    end\n",
    "\n",
    "    # Création du nœud de décision avec la meilleure caractéristique\n",
    "    tree = Node(best_attribute, Dict())\n",
    "    depth += 1\n",
    "    current_path = [path..., best_attribute]\n",
    "\n",
    "    # Séparation des exemples en fonction du seuil\n",
    "    left_subset = filter(best_attribute => <=(best_threshold), data)\n",
    "    right_subset = filter(best_attribute => >(best_threshold), data)\n",
    "    if isempty(left_subset) || isempty(right_subset)\n",
    "        return StatsBase.mode(data[:,target])\n",
    "    else\n",
    "        value = sort(unique(right_subset[:,best_attribute]))[1]\n",
    "        tree.children[best_threshold] = MON_C4_5_con(left_subset, target, attributes, [current_path..., best_threshold], branch, R, max_depth, min_samples, depth)\n",
    "        tree.children[value] = MON_C4_5_con(right_subset, target, attributes, [current_path..., value], branch, R, max_depth, min_samples, depth)\n",
    "    end\n",
    "    return tree\n",
    "end"
   ]
  },
  {
   "cell_type": "code",
   "execution_count": 36,
   "id": "bd2724db",
   "metadata": {},
   "outputs": [
    {
     "data": {
      "text/plain": [
       "Node(\"Taille\", Dict{Any, Any}(2 => Node(\"Qualite\", Dict{Any, Any}(2 => 1, 3 => 3, 1 => 1)), 3 => Node(\"Qualite\", Dict{Any, Any}(2 => Node(\"Prix\", Dict{Any, Any}(2 => 3, 1 => 2)), 3 => 3, 1 => 2)), 1 => Node(\"Qualite\", Dict{Any, Any}(2 => 2, 3 => 2, 1 => 1))))"
      ]
     },
     "execution_count": 36,
     "metadata": {},
     "output_type": "execute_result"
    }
   ],
   "source": [
    "branch = DataFrame(col=Vector())\n",
    "tree7 = MON_C4_5(DATA, target, attributes, [], branch, 1)"
   ]
  },
  {
   "cell_type": "markdown",
   "id": "d95220d6",
   "metadata": {},
   "source": [
    "### Rank Tree monotone"
   ]
  },
  {
   "cell_type": "code",
   "execution_count": 37,
   "id": "ecc938b6",
   "metadata": {},
   "outputs": [
    {
     "data": {
      "text/plain": [
       "mon_RankTree (generic function with 5 methods)"
      ]
     },
     "execution_count": 37,
     "metadata": {},
     "output_type": "execute_result"
    }
   ],
   "source": [
    "function mon_RankTree(data, target, attributes, path, branch, R=1, max_depth=Inf, min_samples=1, depth=0)\n",
    "    # Vérifier les conditions d'arrêt (profondeur maximale ou nombre minimal d'échantillons)\n",
    "    if depth >= max_depth || nrow(data) <= min_samples\n",
    "        current_path = [path..., StatsBase.mode(data[:, target])]\n",
    "        push!(branch, [current_path])\n",
    "        # Créer un nœud feuille avec la classe majoritaire dans l'ensemble de données\n",
    "        return StatsBase.mode(data[:, target])\n",
    "    end\n",
    "    # Vérifier si tous les exemples appartiennent à la même classe\n",
    "    classes = unique(data[:,target])\n",
    "    if length(classes) == 1\n",
    "        current_path = [path..., classes[1]]\n",
    "        push!(branch, [current_path])\n",
    "        return classes[1]\n",
    "    end\n",
    "       \n",
    "    if !isempty(branch)\n",
    "        tab = data_tree(branch, attributes, target)\n",
    "        push!(tab, Vector{Any}(missing, size(tab,2)))\n",
    "    else\n",
    "        tab = DataFrame()\n",
    "        for value in attributes\n",
    "            tab[!,value] = Vector{Any}(missing, 1)\n",
    "        end\n",
    "        tab[!, target] = Vector{Any}(missing, 1)\n",
    "    end\n",
    "    \n",
    "    # Sélectionner l'attribut et la valeur de découpe qui maximisent le score d'ambiguïté totale\n",
    "    best_attribute = \"\"\n",
    "    best_value = 0\n",
    "    best_score = Inf\n",
    "    for attribute in attributes\n",
    "        T = copy(tab)\n",
    "        push!(T, Vector{Any}(missing, size(T,2)))\n",
    "        if !isempty(path)\n",
    "            m = length(path)\n",
    "            for j in 1:Int((m)/2)\n",
    "                T[end-1:end, path[2*j-1]] .= path[2*j]\n",
    "            end\n",
    "        end\n",
    "        values = sort(unique(data[:,attribute]))\n",
    "        n = size(values,1)\n",
    "        for i in 1:n-1\n",
    "            \n",
    "            T[end-1,attribute] = values[i]\n",
    "            left_child = filter(attribute => <=(values[i]), data)\n",
    "            T[end-1,target] = StatsBase.mode(left_child[:,target])\n",
    "\n",
    "            right_child = filter(attribute => >(values[i]), data)\n",
    "            T[end,attribute] = values[i+1]\n",
    "            T[end,target] = StatsBase.mode(right_child[:,target])\n",
    "            \n",
    "            left_I = ranking_impurity(left_child, target)\n",
    "            right_I = ranking_impurity(right_child, target)\n",
    "\n",
    "            INM = NMI(T)\n",
    "            score = left_I + right_I + R*score_a(INM)\n",
    "            if best_score > score\n",
    "                best_attribute = attribute\n",
    "                best_value = values[i]\n",
    "                best_score = score\n",
    "            end\n",
    "        end\n",
    "    end\n",
    "    \n",
    "    if isempty(best_attribute)\n",
    "        majority_class = StatsBase.mode(data[:,target])\n",
    "        current_path = [path..., majority_class]\n",
    "        push!(branch, [current_path])\n",
    "        return majority_class\n",
    "    end\n",
    "\n",
    "    # Partitionner les exemples en fonction de la valeur de découpe sélectionnée\n",
    "    left_subset = filter(best_attribute => <=(best_value), data)\n",
    "    right_subset = filter(best_attribute => >(best_value), data)\n",
    "    \n",
    "    # Construction récursive des sous-arbres gauche et droit\n",
    "    if isempty(left_subset) || isempty(right_subset)\n",
    "        return StatsBase.mode(data[:,target])\n",
    "    else\n",
    "        # Créer le noeud de décision\n",
    "        node = Node(string(best_attribute), Dict())\n",
    "        value = sort(unique(right_subset[:,best_attribute]))[1]\n",
    "        depth += 1\n",
    "        current_path = [path..., best_attribute]\n",
    "        node.children[best_value] = mon_RankTree(left_subset, target, attributes, [current_path..., best_value], branch, R, max_depth, min_samples, depth)\n",
    "        node.children[value] = mon_RankTree(right_subset, target, attributes, [current_path..., value], branch, R, max_depth, min_samples, depth)\n",
    "    end\n",
    "    \n",
    "    return node\n",
    "end"
   ]
  },
  {
   "cell_type": "code",
   "execution_count": 38,
   "id": "d95c3243",
   "metadata": {},
   "outputs": [
    {
     "data": {
      "text/plain": [
       "Node(\"Prix\", Dict{Any, Any}(2 => Node(\"Qualite\", Dict{Any, Any}(2 => Node(\"Taille\", Dict{Any, Any}(2 => 1, 3 => 2)), 3 => Node(\"Taille\", Dict{Any, Any}(2 => 3, 1 => 2)))), 3 => Node(\"Qualite\", Dict{Any, Any}(2 => Node(\"Taille\", Dict{Any, Any}(3 => 3, 1 => 2)), 1 => Node(\"Taille\", Dict{Any, Any}(2 => 1, 3 => 2))))))"
      ]
     },
     "execution_count": 38,
     "metadata": {},
     "output_type": "execute_result"
    }
   ],
   "source": [
    "branch = DataFrame(col=Vector())\n",
    "tree8 = mon_RankTree(data_or, target, attributes, [], branch, 1)"
   ]
  },
  {
   "cell_type": "markdown",
   "id": "4744a74e",
   "metadata": {},
   "source": [
    "### Forêt aléatoire monotone"
   ]
  },
  {
   "cell_type": "code",
   "execution_count": 39,
   "id": "06778bbf",
   "metadata": {},
   "outputs": [
    {
     "data": {
      "text/plain": [
       "Mon_Forest_RI (generic function with 3 methods)"
      ]
     },
     "execution_count": 39,
     "metadata": {},
     "output_type": "execute_result"
    }
   ],
   "source": [
    "function Mon_Forest_RI(data, ntree, n_samples, R_limit, T, target, attributes, max_depth=Inf, min_samples=1)\n",
    "    M_RF = DataFrame()\n",
    "    M_RF[!,\"tree\"] = Vector{Any}(missing, ntree)\n",
    "    M_RF[!,\"INM\"] = zeros(ntree)\n",
    "    n = size(data, 1)\n",
    "    for i in 1:ntree\n",
    "        data_2 = bootstrap_sample(data, n_samples) #échantillonnage\n",
    "        R = rand(1:R_limit) #sélection du facteur d'importance\n",
    "        # Construction de l'arbre de décision\n",
    "        M_RF[i,\"tree\"] = mon_cart(data_2, target, attributes, [], DataFrame(col=Vector()), R, max_depth, min_samples, 0)\n",
    "        # Extration des branches\n",
    "        paths = DataFrame(col=Vector())\n",
    "        branchs(M_RF[i,\"tree\"], [], paths)\n",
    "        tab = data_tree(paths, attributes, target)\n",
    "        # Calcule de l'indice de non-monotonie\n",
    "        M_RF[i,\"INM\"] = NMI(tab)\n",
    "    end\n",
    "    # Classement par ordre croissant\n",
    "    sort!(M_RF, \"INM\")\n",
    "    # Elagage\n",
    "    TREE = M_RF[1:Int(round(ntree*T)),:]\n",
    "    return TREE\n",
    "end"
   ]
  },
  {
   "cell_type": "code",
   "execution_count": 41,
   "id": "51dcfce8",
   "metadata": {
    "scrolled": true
   },
   "outputs": [
    {
     "data": {
      "text/html": [
       "<div><div style = \"float: left;\"><span>12×2 DataFrame</span></div><div style = \"clear: both;\"></div></div><div class = \"data-frame\" style = \"overflow-x: scroll;\"><table class = \"data-frame\" style = \"margin-bottom: 6px;\"><thead><tr class = \"header\"><th class = \"rowNumber\" style = \"font-weight: bold; text-align: right;\">Row</th><th style = \"text-align: left;\">tree</th><th style = \"text-align: left;\">INM</th></tr><tr class = \"subheader headerLastRow\"><th class = \"rowNumber\" style = \"font-weight: bold; text-align: right;\"></th><th title = \"Any\" style = \"text-align: left;\">Any</th><th title = \"Float64\" style = \"text-align: left;\">Float64</th></tr></thead><tbody><tr><td class = \"rowNumber\" style = \"font-weight: bold; text-align: right;\">1</td><td style = \"text-align: left;\">Node(&quot;Prix&quot;, Dict{Any, Any}(4=&gt;3, 3=&gt;2))</td><td style = \"text-align: right;\">0.0</td></tr><tr><td class = \"rowNumber\" style = \"font-weight: bold; text-align: right;\">2</td><td style = \"text-align: left;\">Node(&quot;Prix&quot;, Dict{Any, Any}(4=&gt;Node(&quot;Taille&quot;, Dict{Any, Any}(3=&gt;3, 1=&gt;2)), 3=&gt;2))</td><td style = \"text-align: right;\">0.0</td></tr><tr><td class = \"rowNumber\" style = \"font-weight: bold; text-align: right;\">3</td><td style = \"text-align: left;\">Node(&quot;Taille&quot;, Dict{Any, Any}(3=&gt;Node(&quot;Qualite&quot;, Dict{Any, Any}(2=&gt;3, 1=&gt;2)), 1=&gt;2))</td><td style = \"text-align: right;\">0.0</td></tr><tr><td class = \"rowNumber\" style = \"font-weight: bold; text-align: right;\">4</td><td style = \"text-align: left;\">Node(&quot;Taille&quot;, Dict{Any, Any}(2=&gt;Node(&quot;Taille&quot;, Dict{Any, Any}(2=&gt;3, 1=&gt;2)), 3=&gt;Node(&quot;Qualite&quot;, Dict{Any, Any}(2=&gt;2, 3=&gt;3))))</td><td style = \"text-align: right;\">0.166667</td></tr><tr><td class = \"rowNumber\" style = \"font-weight: bold; text-align: right;\">5</td><td style = \"text-align: left;\">Node(&quot;Qualite&quot;, Dict{Any, Any}(2=&gt;Node(&quot;Qualite&quot;, Dict{Any, Any}(2=&gt;3, 1=&gt;2)), 3=&gt;Node(&quot;Taille&quot;, Dict{Any, Any}(2=&gt;3, 1=&gt;2))))</td><td style = \"text-align: right;\">0.166667</td></tr><tr><td class = \"rowNumber\" style = \"font-weight: bold; text-align: right;\">6</td><td style = \"text-align: left;\">Node(&quot;Taille&quot;, Dict{Any, Any}(2=&gt;Node(&quot;Taille&quot;, Dict{Any, Any}(2=&gt;1, 3=&gt;Node(&quot;Prix&quot;, Dict{Any, Any}(4=&gt;3, 1=&gt;2)))), 1=&gt;Node(&quot;Prix&quot;, Dict{Any, Any}(2=&gt;2, 3=&gt;1))))</td><td style = \"text-align: right;\">0.2</td></tr><tr><td class = \"rowNumber\" style = \"font-weight: bold; text-align: right;\">7</td><td style = \"text-align: left;\">Node(&quot;Prix&quot;, Dict{Any, Any}(2=&gt;Node(&quot;Qualite&quot;, Dict{Any, Any}(3=&gt;3, 1=&gt;1)), 1=&gt;2))</td><td style = \"text-align: right;\">0.333333</td></tr><tr><td class = \"rowNumber\" style = \"font-weight: bold; text-align: right;\">8</td><td style = \"text-align: left;\">Node(&quot;Qualite&quot;, Dict{Any, Any}(2=&gt;3, 1=&gt;Node(&quot;Prix&quot;, Dict{Any, Any}(4=&gt;1, 3=&gt;2))))</td><td style = \"text-align: right;\">0.333333</td></tr><tr><td class = \"rowNumber\" style = \"font-weight: bold; text-align: right;\">9</td><td style = \"text-align: left;\">Node(&quot;Prix&quot;, Dict{Any, Any}(4=&gt;Node(&quot;Qualite&quot;, Dict{Any, Any}(2=&gt;2, 1=&gt;1)), 3=&gt;2))</td><td style = \"text-align: right;\">0.333333</td></tr><tr><td class = \"rowNumber\" style = \"font-weight: bold; text-align: right;\">10</td><td style = \"text-align: left;\">Node(&quot;Qualite&quot;, Dict{Any, Any}(2=&gt;Node(&quot;Taille&quot;, Dict{Any, Any}(3=&gt;3, 1=&gt;2)), 3=&gt;2))</td><td style = \"text-align: right;\">0.333333</td></tr><tr><td class = \"rowNumber\" style = \"font-weight: bold; text-align: right;\">11</td><td style = \"text-align: left;\">Node(&quot;Prix&quot;, Dict{Any, Any}(2=&gt;2, 3=&gt;Node(&quot;Taille&quot;, Dict{Any, Any}(2=&gt;1, 3=&gt;2))))</td><td style = \"text-align: right;\">0.333333</td></tr><tr><td class = \"rowNumber\" style = \"font-weight: bold; text-align: right;\">12</td><td style = \"text-align: left;\">Node(&quot;Prix&quot;, Dict{Any, Any}(2=&gt;3, 3=&gt;Node(&quot;Taille&quot;, Dict{Any, Any}(2=&gt;1, 3=&gt;3))))</td><td style = \"text-align: right;\">0.333333</td></tr></tbody></table></div>"
      ],
      "text/latex": [
       "\\begin{tabular}{r|cc}\n",
       "\t& tree & \\\\\n",
       "\t\\hline\n",
       "\t& Any & \\\\\n",
       "\t\\hline\n",
       "\t1 & Node(\"Prix\", Dict\\{Any, Any\\}(4=>3, 3=>2)) & $\\dots$ \\\\\n",
       "\t2 & Node(\"Prix\", Dict\\{Any, Any\\}(4=>Node(\"Taille\", Dict\\{Any, Any\\}(3=>3, 1=>2)), 3=>2)) & $\\dots$ \\\\\n",
       "\t3 & Node(\"Taille\", Dict\\{Any, Any\\}(3=>Node(\"Qualite\", Dict\\{Any, Any\\}(2=>3, 1=>2)), 1=>2)) & $\\dots$ \\\\\n",
       "\t4 & Node(\"Taille\", Dict\\{Any, Any\\}(2=>Node(\"Taille\", Dict\\{Any, Any\\}(2=>3, 1=>2)), 3=>Node(\"Qualite\", Dict\\{Any, Any\\}(2=>2, 3=>3)))) & $\\dots$ \\\\\n",
       "\t5 & Node(\"Qualite\", Dict\\{Any, Any\\}(2=>Node(\"Qualite\", Dict\\{Any, Any\\}(2=>3, 1=>2)), 3=>Node(\"Taille\", Dict\\{Any, Any\\}(2=>3, 1=>2)))) & $\\dots$ \\\\\n",
       "\t6 & Node(\"Taille\", Dict\\{Any, Any\\}(2=>Node(\"Taille\", Dict\\{Any, Any\\}(2=>1, 3=>Node(\"Prix\", Dict\\{Any, Any\\}(4=>3, 1=>2)))), 1=>Node(\"Prix\", Dict\\{Any, Any\\}(2=>2, 3=>1)))) & $\\dots$ \\\\\n",
       "\t7 & Node(\"Prix\", Dict\\{Any, Any\\}(2=>Node(\"Qualite\", Dict\\{Any, Any\\}(3=>3, 1=>1)), 1=>2)) & $\\dots$ \\\\\n",
       "\t8 & Node(\"Qualite\", Dict\\{Any, Any\\}(2=>3, 1=>Node(\"Prix\", Dict\\{Any, Any\\}(4=>1, 3=>2)))) & $\\dots$ \\\\\n",
       "\t9 & Node(\"Prix\", Dict\\{Any, Any\\}(4=>Node(\"Qualite\", Dict\\{Any, Any\\}(2=>2, 1=>1)), 3=>2)) & $\\dots$ \\\\\n",
       "\t10 & Node(\"Qualite\", Dict\\{Any, Any\\}(2=>Node(\"Taille\", Dict\\{Any, Any\\}(3=>3, 1=>2)), 3=>2)) & $\\dots$ \\\\\n",
       "\t11 & Node(\"Prix\", Dict\\{Any, Any\\}(2=>2, 3=>Node(\"Taille\", Dict\\{Any, Any\\}(2=>1, 3=>2)))) & $\\dots$ \\\\\n",
       "\t12 & Node(\"Prix\", Dict\\{Any, Any\\}(2=>3, 3=>Node(\"Taille\", Dict\\{Any, Any\\}(2=>1, 3=>3)))) & $\\dots$ \\\\\n",
       "\\end{tabular}\n"
      ],
      "text/plain": [
       "\u001b[1m12×2 DataFrame\u001b[0m\n",
       "\u001b[1m Row \u001b[0m│\u001b[1m tree                              \u001b[0m\u001b[1m INM      \u001b[0m\n",
       "     │\u001b[90m Any                               \u001b[0m\u001b[90m Float64  \u001b[0m\n",
       "─────┼─────────────────────────────────────────────\n",
       "   1 │ Node(\"Prix\", Dict{Any, Any}(4=>3…  0.0\n",
       "   2 │ Node(\"Prix\", Dict{Any, Any}(4=>N…  0.0\n",
       "   3 │ Node(\"Taille\", Dict{Any, Any}(3=…  0.0\n",
       "   4 │ Node(\"Taille\", Dict{Any, Any}(2=…  0.166667\n",
       "   5 │ Node(\"Qualite\", Dict{Any, Any}(2…  0.166667\n",
       "   6 │ Node(\"Taille\", Dict{Any, Any}(2=…  0.2\n",
       "   7 │ Node(\"Prix\", Dict{Any, Any}(2=>N…  0.333333\n",
       "   8 │ Node(\"Qualite\", Dict{Any, Any}(2…  0.333333\n",
       "   9 │ Node(\"Prix\", Dict{Any, Any}(4=>N…  0.333333\n",
       "  10 │ Node(\"Qualite\", Dict{Any, Any}(2…  0.333333\n",
       "  11 │ Node(\"Prix\", Dict{Any, Any}(2=>2…  0.333333\n",
       "  12 │ Node(\"Prix\", Dict{Any, Any}(2=>3…  0.333333"
      ]
     },
     "execution_count": 41,
     "metadata": {},
     "output_type": "execute_result"
    }
   ],
   "source": [
    "forest2 = Mon_Forest_RI(data_or, 15, 5, 5, 0.8, target, attributes)"
   ]
  },
  {
   "cell_type": "markdown",
   "id": "d4ee9bcb",
   "metadata": {},
   "source": [
    "Prévisions"
   ]
  },
  {
   "cell_type": "code",
   "execution_count": 42,
   "id": "dfc1654b",
   "metadata": {},
   "outputs": [
    {
     "name": "stdout",
     "output_type": "stream",
     "text": [
      "C4.5 => 1\n",
      "C4.5 monotone => 1\n",
      "ID3 => 1\n",
      "CART => 3\n",
      "Ranking Tree => 1\n",
      "Forest_RI => 3\n",
      "ID3 monotone => 1\n",
      "CART monotone => 3\n",
      "Ranking Tree monotone => 3\n",
      "Forest_RI monotone => 3"
     ]
    }
   ],
   "source": [
    "example1 = DataFrame(Taille=2, Qualite=2, Prix=2)\n",
    "example2 = DataFrame(Taille=2, Qualite=2, Prix=30)\n",
    "example3 = DataFrame(Taille=2, Qualite=2, Prix=4)\n",
    "print(\"C4.5 => \", predict_tree(tree2, example1[1,:]))\n",
    "print(\"\\nC4.5 monotone => \", predict_tree(tree7, example1[1,:]))\n",
    "print(\"\\nID3 => \", predict_tree(tree1, example2[1,:]))\n",
    "print(\"\\nCART => \", predict_bi(tree3, example2[1,:]))\n",
    "print(\"\\nRanking Tree => \", predict_bi(tree4, example2[1,:]))\n",
    "print(\"\\nForest_RI => \", predict_rf(forest1, example2[1,:]))\n",
    "print(\"\\nID3 monotone => \", predict_tree(tree6, example3[1,:]))\n",
    "print(\"\\nCART monotone => \", predict_bi(tree5, example3[1,:]))\n",
    "print(\"\\nRanking Tree monotone => \", predict_bi(tree8, example3[1,:]))\n",
    "print(\"\\nForest_RI monotone => \", predict_rf(forest2, example3[1,:]))"
   ]
  },
  {
   "cell_type": "markdown",
   "id": "596ad37b",
   "metadata": {},
   "source": [
    "# Applications"
   ]
  },
  {
   "cell_type": "markdown",
   "id": "a5bb0700",
   "metadata": {},
   "source": [
    "## Mesures d'évaluation"
   ]
  },
  {
   "cell_type": "markdown",
   "id": "6ad91a55",
   "metadata": {},
   "source": [
    "Le tau de Kendall (modifié) $$\\frac{\\text{nombre de paires concordantes}}{n*(n-1)}$$"
   ]
  },
  {
   "cell_type": "code",
   "execution_count": 99,
   "id": "f22e3d00",
   "metadata": {},
   "outputs": [
    {
     "data": {
      "text/plain": [
       "kendall_tau (generic function with 1 method)"
      ]
     },
     "execution_count": 99,
     "metadata": {},
     "output_type": "execute_result"
    }
   ],
   "source": [
    "function kendall_tau(r1, r2)\n",
    "    n = length(r1)\n",
    "    if n < 2\n",
    "        return 1\n",
    "    end\n",
    "    tau = 0.0\n",
    "    for i = 1:n-1\n",
    "        for j=i+1:n\n",
    "            if (r1[i]-r1[j]) * (r2[i]-r2[j]) > 0\n",
    "                tau += 1\n",
    "            elseif r1[i]-r1[j]==0 && r2[i]-r2[j]==0\n",
    "                tau = tau\n",
    "            else\n",
    "                tau -= 1\n",
    "            end\n",
    "        end\n",
    "    end\n",
    "    2 * tau / (n * (n-1))\n",
    "end"
   ]
  },
  {
   "cell_type": "markdown",
   "id": "c511edc1",
   "metadata": {},
   "source": [
    "$$$$L'erreur 0-1 moyenne (mean zero-one error (MZE))\n",
    "$$\\text{MZE} = \\frac{1}{N} \\displaystyle\\sum _{i=1}^N 1_{\\{y_i^* \\neq y_i\\}}$$\n"
   ]
  },
  {
   "cell_type": "code",
   "execution_count": 44,
   "id": "c2e11047",
   "metadata": {},
   "outputs": [
    {
     "data": {
      "text/plain": [
       "MZE (generic function with 1 method)"
      ]
     },
     "execution_count": 44,
     "metadata": {},
     "output_type": "execute_result"
    }
   ],
   "source": [
    "function MZE(X, Y)\n",
    "    n=length(X)\n",
    "    r = 0\n",
    "    for i in 1:n\n",
    "        if X[i] != Y[i]\n",
    "            r += 1\n",
    "        end\n",
    "    end\n",
    "    return r/n\n",
    "end"
   ]
  },
  {
   "cell_type": "markdown",
   "id": "ed16f447",
   "metadata": {},
   "source": [
    "$$$$L'erreur absolue moyenne (mean absolute error (MAE)) : \n",
    "$$\\text{MAE} = \\frac{1}{N} \\displaystyle\\sum _{i=1}^N | \\mathcal{O}(y_i) - \\mathcal{O}(y_i^*)|$$\n"
   ]
  },
  {
   "cell_type": "code",
   "execution_count": 45,
   "id": "41394d98",
   "metadata": {},
   "outputs": [
    {
     "data": {
      "text/plain": [
       "MAE (generic function with 1 method)"
      ]
     },
     "execution_count": 45,
     "metadata": {},
     "output_type": "execute_result"
    }
   ],
   "source": [
    "function MAE(X, Y)\n",
    "    n=length(X)\n",
    "    r = 0\n",
    "    for i in 1:n\n",
    "        r += abs(X[i]-Y[i])\n",
    "    end\n",
    "    return r/n\n",
    "end"
   ]
  },
  {
   "cell_type": "markdown",
   "id": "6ce74a7f",
   "metadata": {},
   "source": [
    "## Données"
   ]
  },
  {
   "cell_type": "markdown",
   "id": "4bc2dcee",
   "metadata": {},
   "source": [
    "### Car evaluation"
   ]
  },
  {
   "cell_type": "code",
   "execution_count": 46,
   "id": "58c96721",
   "metadata": {
    "scrolled": true
   },
   "outputs": [
    {
     "data": {
      "text/plain": [
       "5.629543846104356e-5"
      ]
     },
     "execution_count": 46,
     "metadata": {},
     "output_type": "execute_result"
    }
   ],
   "source": [
    "d = readdlm(\"car.data\", ',')\n",
    "    \n",
    "data1 = DataFrame()\n",
    "data1[!,\"Buying\"] = replace!(d[:,1], \"vhigh\" => 1, \"high\" => 2, \"med\" => 3, \"low\" => 4)\n",
    "data1[!,\"Maint\"] = replace!(d[:,2], \"vhigh\" => 1, \"high\" => 2, \"med\" => 3, \"low\" => 4)\n",
    "data1[!,\"Doors\"] = replace!(d[:,3], 2 => 1, 3 => 2, 4 => 3, \"5more\" => 4, )\n",
    "data1[!,\"Persons\"] = replace!(d[:,4], 2 => 1, 4 => 2, \"more\" => 3)\n",
    "data1[!,\"Lug_boot\"] = replace!(d[:,5], \"small\" => 1, \"med\" => 2, \"big\" => 3)\n",
    "data1[!,\"Safety\"] = replace!(d[:,6], \"low\" => 1, \"med\" => 2, \"high\" => 3)\n",
    "data1[!,\"Acceptability\"] = replace!(d[:,7], \"unacc\" => 1, \"acc\" => 2, \"good\" => 3, \"vgood\" => 4)\n",
    "\n",
    "NMI(data1)"
   ]
  },
  {
   "cell_type": "code",
   "execution_count": 47,
   "id": "2ba1618f",
   "metadata": {},
   "outputs": [],
   "source": [
    "attributes1 = names(data1)[1:end-1]\n",
    "target1 = names(data1)[end];"
   ]
  },
  {
   "cell_type": "code",
   "execution_count": 48,
   "id": "4da9753d",
   "metadata": {},
   "outputs": [
    {
     "data": {
      "text/plain": [
       "0.02075726154276772"
      ]
     },
     "execution_count": 48,
     "metadata": {},
     "output_type": "execute_result"
    }
   ],
   "source": [
    "d3 = readdlm(\"yeast.data\")\n",
    "\n",
    "data3 = DataFrame()\n",
    "data3[!,\"mcg\"] = d3[:,2]\n",
    "data3[!,\"gvh\"] = d3[:,3]\n",
    "data3[!,\"alm\"] = d3[:,4]\n",
    "data3[!,\"mit\"] = d3[:,5]\n",
    "data3[!,\"erl\"] = d3[:,6]\n",
    "data3[!,\"pox\"] = d3[:,7]\n",
    "data3[!,\"vac\"] = d3[:,8]\n",
    "data3[!,\"nuc\"] = d3[:,9]\n",
    "data3[!,\"class\"] = replace!(d3[:,10], \"CYT\" => 1, \"NUC\" => 2, \"MIT\" => 3, \"ME3\" => 4, \"ME2\" => 5, \"ME1\" => 6, \"EXC\" =>7, \"VAC\" =>8, \"POX\" => 9, \"ERL\" => 10)\n",
    "\n",
    "NMI(data3)"
   ]
  },
  {
   "cell_type": "code",
   "execution_count": 49,
   "id": "3de2ee38",
   "metadata": {},
   "outputs": [],
   "source": [
    "attributes3 = names(data3)[1:end-1]\n",
    "target3 = names(data3)[end];"
   ]
  },
  {
   "cell_type": "markdown",
   "id": "620ed0f7",
   "metadata": {},
   "source": [
    "### Segmentation"
   ]
  },
  {
   "cell_type": "code",
   "execution_count": 50,
   "id": "76b4a2d9",
   "metadata": {
    "scrolled": true
   },
   "outputs": [
    {
     "data": {
      "text/plain": [
       "3.7496789337412986e-7"
      ]
     },
     "execution_count": 50,
     "metadata": {},
     "output_type": "execute_result"
    }
   ],
   "source": [
    "d2 = readdlm(\"segment.dat\", ',')\n",
    "\n",
    "data2 = DataFrame()\n",
    "data2[!,\"R_col\"] = d2[:,1]\n",
    "data2[!,\"R_row\"] = d2[:,2]\n",
    "data2[!,\"Pixel_count\"] = d2[:,3]\n",
    "data2[!,\"Density_5\"] = d2[:,4]\n",
    "data2[!,\"Density_2\"] = d2[:,5]\n",
    "data2[!,\"Vedge_mean\"] = d2[:,6]\n",
    "data2[!,\"Vegde_sd\"] = d2[:,7]\n",
    "data2[!,\"Hedge_mean\"] = d2[:,8]\n",
    "data2[!,\"Hedge_sd\"] = d2[:,9]\n",
    "data2[!,\"Intensity\"] = d2[:,10]\n",
    "data2[!,\"Rawred\"] = d2[:,11]\n",
    "data2[!,\"Rawblue\"] = d2[:,12]\n",
    "data2[!,\"Rawgreen\"] = d2[:,13]\n",
    "data2[!,\"Exred\"] = d2[:,14]\n",
    "data2[!,\"Exblue\"] = d2[:,15]\n",
    "data2[!,\"Exgreen\"] = d2[:,16]\n",
    "data2[!,\"Value\"] = d2[:,17]\n",
    "data2[!,\"Saturatoin\"] = d2[:,18]\n",
    "data2[!,\"Hue\"] = d2[:,19]\n",
    "data2[!,\"Classe\"] = Int.(d2[:,20])\n",
    "\n",
    "NMI(data2)"
   ]
  },
  {
   "cell_type": "markdown",
   "id": "37742dae",
   "metadata": {},
   "source": [
    "$$$$Remplacement des classes pour rendre les données monotones"
   ]
  },
  {
   "cell_type": "code",
   "execution_count": 51,
   "id": "586ba694",
   "metadata": {},
   "outputs": [
    {
     "data": {
      "text/plain": [
       "0.0"
      ]
     },
     "execution_count": 51,
     "metadata": {},
     "output_type": "execute_result"
    }
   ],
   "source": [
    "data2[1429,end] = 5\n",
    "data2[812,end] = 3\n",
    "NMI(data2)"
   ]
  },
  {
   "cell_type": "code",
   "execution_count": 52,
   "id": "bcc696b5",
   "metadata": {},
   "outputs": [],
   "source": [
    "attributes2 = names(data2)[1:end-1]\n",
    "target2 = names(data2)[end];"
   ]
  },
  {
   "cell_type": "markdown",
   "id": "c87f9d22",
   "metadata": {},
   "source": [
    "### Paramètres"
   ]
  },
  {
   "cell_type": "code",
   "execution_count": 53,
   "id": "2294b3bd",
   "metadata": {},
   "outputs": [],
   "source": [
    "min_s = 2 #nombre minimum de d'exemples pour effectuer un partitionnement\n",
    "max_d = 90 #profondeur maximale de l'arbre\n",
    "R=1 #facteur d'importance du score d'ambiguïté de l'ordre\n",
    "R_max = 100 #limite des facteurs d'importance du score d'ambiguïté de l'ordre pour les forêts aléatoires monotones\n",
    "T = 0.5 #seuil d'élagage des forêts aléatoires\n",
    "ntrees = 100 #nombre d'arbres pour les forêts aléatoires\n",
    "n_samples1 = Int(round(10*size(data1,1)*0.7/ntrees)) #taille de l'échantillon bootstrap\n",
    "n_samples2 = Int(round(10*size(data2,1)*0.7/ntrees)) #taille de l'échantillon bootstrap\n",
    "n_samples3 = Int(round(10*size(data3,1)*0.7/ntrees)) #taille de l'échantillon bootstrap\n",
    "n_split = 0.7 #portion de données d'entrainement\n",
    "n_exp = 20; #nombre de répétitions"
   ]
  },
  {
   "cell_type": "markdown",
   "id": "14d8b9b5",
   "metadata": {},
   "source": [
    "## Fonctions pour l'évalution des performances"
   ]
  },
  {
   "cell_type": "code",
   "execution_count": 54,
   "id": "31df323a",
   "metadata": {},
   "outputs": [
    {
     "data": {
      "text/plain": [
       "evaluation2 (generic function with 1 method)"
      ]
     },
     "execution_count": 54,
     "metadata": {},
     "output_type": "execute_result"
    }
   ],
   "source": [
    "# arbre de décision\n",
    "function evaluation(TREE, don, n_exp, attributes, target)\n",
    "    EVAL = DataFrame()\n",
    "    EVAL[!,\"INM\"] = zeros(n_exp)\n",
    "    EVAL[!,\"MAE\"] = zeros(n_exp)\n",
    "    EVAL[!,\"MZE\"] = zeros(n_exp)\n",
    "    EVAL[!,\"leaves\"] = zeros(n_exp)\n",
    "    EVAL[!,\"tau\"] = zeros(n_exp)\n",
    "    for i in 1:n_exp\n",
    "        EVAL[i,\"tau\"] = kendall_tau(don[i,\"test\"][:,end], TREE[i,\"pred\"])\n",
    "        EVAL[i,\"MAE\"] = MAE(don[i,\"test\"][:,end], TREE[i,\"pred\"])\n",
    "        EVAL[i,\"MZE\"] = MZE(don[i,\"test\"][:,end], TREE[i,\"pred\"])\n",
    "    \n",
    "        paths = DataFrame(col=Vector())\n",
    "        branchs(TREE[i,\"tree\"], [], paths)\n",
    "        tab = data_tree(paths, attributes, target)\n",
    "        EVAL[i,\"leaves\"] = size(tab,1)\n",
    "    \n",
    "        D = copy(don[i,\"test\"])\n",
    "        D[:,end] = TREE[i,\"pred\"]\n",
    "    \n",
    "        EVAL[i,\"INM\"] = NMI(D)\n",
    "    end\n",
    "    return EVAL\n",
    "end\n",
    "\n",
    "# forêt\n",
    "function evaluation2(TREE, don, n_exp, attributes, target)\n",
    "    EVAL = DataFrame()\n",
    "    EVAL[!,\"INM\"] = zeros(n_exp)\n",
    "    EVAL[!,\"MAE\"] = zeros(n_exp)\n",
    "    EVAL[!,\"MZE\"] = zeros(n_exp)\n",
    "    EVAL[!,\"leaves\"] = zeros(n_exp)\n",
    "    EVAL[!,\"tau\"] = zeros(n_exp)\n",
    "    for i in 1:n_exp\n",
    "        EVAL[i,\"tau\"] = kendall_tau(don[i,\"test\"][:,end], TREE[i,\"pred\"])\n",
    "        EVAL[i,\"MAE\"] = MAE(don[i,\"test\"][:,end], TREE[i,\"pred\"])\n",
    "        EVAL[i,\"MZE\"] = MZE(don[i,\"test\"][:,end], TREE[i,\"pred\"])\n",
    "        \n",
    "        n = size(TREE[i,\"tree\"],1)\n",
    "        l = 0\n",
    "        for j in 1:n\n",
    "            paths = DataFrame(col=Vector())\n",
    "            branchs(TREE[i,\"tree\"][j,1], [], paths)\n",
    "            tab = data_tree(paths, attributes, target)\n",
    "            l += size(tab,1)\n",
    "        end\n",
    "            \n",
    "        EVAL[i,\"leaves\"] = l/n\n",
    "    \n",
    "        D = copy(don[i,\"test\"])\n",
    "        D[:,end] = TREE[i,\"pred\"]\n",
    "    \n",
    "        EVAL[i,\"INM\"] = NMI(D)\n",
    "    end\n",
    "    return EVAL\n",
    "end\n"
   ]
  },
  {
   "cell_type": "markdown",
   "id": "d361715e",
   "metadata": {},
   "source": [
    "## Temps d'exécution"
   ]
  },
  {
   "cell_type": "code",
   "execution_count": 165,
   "id": "94f610b4",
   "metadata": {},
   "outputs": [
    {
     "name": "stdout",
     "output_type": "stream",
     "text": [
      "INM :   10.379 s (78937593 allocations: 1.18 GiB)\n",
      "Entropie :   161.600 μs (3192 allocations: 120.58 KiB)\n",
      "Indice de Gini :   166.800 μs (3192 allocations: 120.56 KiB)\n",
      "Ranking impurity :   725.700 μs (3251 allocations: 237.91 KiB)\n"
     ]
    },
    {
     "data": {
      "text/plain": [
       "948471.0"
      ]
     },
     "execution_count": 165,
     "metadata": {},
     "output_type": "execute_result"
    }
   ],
   "source": [
    "print(\"INM : \")\n",
    "@btime NMI(data1)\n",
    "\n",
    "print(\"Entropie : \")\n",
    "@btime entropy(data1, target1)\n",
    "\n",
    "print(\"Indice de Gini : \")\n",
    "@btime gini_index(data1, target1)\n",
    "\n",
    "print(\"Ranking impurity : \")\n",
    "@btime ranking_impurity(data1, target1),"
   ]
  },
  {
   "cell_type": "code",
   "execution_count": 152,
   "id": "fb2f18eb",
   "metadata": {},
   "outputs": [
    {
     "name": "stdout",
     "output_type": "stream",
     "text": [
      "ID3 :   24.699 ms (375280 allocations: 19.15 MiB)\n",
      "ID3 monotone :   3.007 s (536772 allocations: 36.37 MiB)\n",
      "C4.5 :   36.608 ms (524535 allocations: 27.23 MiB)\n",
      "C4.5 monotone :   3.117 s (642175 allocations: 42.46 MiB)\n",
      "Ranking Tree :   56.128 ms (674019 allocations: 41.10 MiB)\n",
      "Ranking Tree monotone :   870.305 ms (787488 allocations: 55.91 MiB)\n",
      "CART :   69.149 ms (953765 allocations: 50.12 MiB)\n",
      "CART monotone :   428.615 ms (622891 allocations: 37.87 MiB)\n",
      "Forêt aléatoire :   2.488 s (22260941 allocations: 1.29 GiB)\n",
      "Forêt aléatoire monotone :  3.857 s (15005539 allocations: 968.60 MiB)\n"
     ]
    }
   ],
   "source": [
    "print(\"ID3 : \")\n",
    "@btime ID3(data1, attributes1, target1)\n",
    "\n",
    "print(\"ID3 monotone : \")\n",
    "@btime MON_ID3(data1, target1, attributes1, [], DataFrame(col=Vector()), R)\n",
    "\n",
    "print(\"C4.5 : \")\n",
    "@btime C4_5(data1, target1, attributes1)\n",
    "\n",
    "print(\"C4.5 monotone : \")\n",
    "@btime MON_C4_5(data1, target1, attributes1, [], DataFrame(col=Vector()), R)\n",
    "\n",
    "print(\"Ranking Tree : \")\n",
    "@btime RankTree(data1, target1, attributes1)\n",
    "\n",
    "print(\"Ranking Tree monotone : \")\n",
    "@btime mon_RankTree(data1, target1, attributes1, [], DataFrame(col=Vector()), R)\n",
    "\n",
    "print(\"CART : \")\n",
    "@btime cart(data1, target1, attributes1)\n",
    "\n",
    "print(\"CART monotone : \")\n",
    "@btime mon_cart(data1, target1, attributes1, [], DataFrame(col=Vector()), R)\n",
    "\n",
    "print(\"Forêt aléatoire : \")\n",
    "@btime Forest_RI(data1, ntrees, n_samples1, attributes1, target1)\n",
    "\n",
    "print(\"Forêt aléatoire monotone :\")\n",
    "@btime Mon_Forest_RI(data1, ntrees, n_samples1, R_max, T, target1, attributes1);"
   ]
  },
  {
   "cell_type": "code",
   "execution_count": 153,
   "id": "afe35517",
   "metadata": {
    "scrolled": true
   },
   "outputs": [
    {
     "name": "stdout",
     "output_type": "stream",
     "text": [
      "ID3 :   678.467 ms (5496331 allocations: 426.53 MiB)\n",
      "ID3 monotone :   112.640 s (2815267175 allocations: 42.35 GiB)\n",
      "C4.5 :   12.706 s (74371467 allocations: 21.14 GiB)\n",
      "C4.5 monotone :   29.698 s (76304503 allocations: 33.95 GiB)\n",
      "Ranking Tree :   16.634 s (75061967 allocations: 30.21 GiB)\n",
      "Ranking Tree monotone :   208.370 s (115671754 allocations: 63.85 GiB)\n",
      "CART :   14.680 s (78985538 allocations: 24.06 GiB)\n",
      "CART monotone :   209.125 s (104387528 allocations: 38.48 GiB)\n",
      "Forêt aléatoire :   131.351 s (871229524 allocations: 84.85 GiB)\n",
      "Forêt aléatoire monotone :  3816.023 s (1504063719 allocations: 143.94 GiB)\n"
     ]
    }
   ],
   "source": [
    "print(\"ID3 : \")\n",
    "@btime ID3(data2, attributes2, target2)\n",
    "\n",
    "print(\"ID3 monotone : \")\n",
    "@btime MON_ID3(data2, target2, attributes2, [], DataFrame(col=Vector()), R)\n",
    "\n",
    "print(\"C4.5 : \")\n",
    "@btime C4_5_con(data2, target2, attributes2)\n",
    "\n",
    "print(\"C4.5 monotone : \")\n",
    "@btime MON_C4_5_con(data2, target2, attributes2, [], DataFrame(col=Vector()), R)\n",
    "\n",
    "print(\"Ranking Tree : \")\n",
    "@btime RankTree(data2, target2, attributes2)\n",
    "\n",
    "print(\"Ranking Tree monotone : \")\n",
    "@btime mon_RankTree(data2, target2, attributes2, [], DataFrame(col=Vector()), R)\n",
    "\n",
    "print(\"CART : \")\n",
    "@btime cart(data2, target2, attributes2)\n",
    "\n",
    "print(\"CART monotone : \")\n",
    "@btime mon_cart(data2, target2, attributes2, [], DataFrame(col=Vector()), R)\n",
    "\n",
    "print(\"Forêt aléatoire : \")\n",
    "@btime Forest_RI(data2, ntrees, n_samples2, attributes2, target2)\n",
    "\n",
    "print(\"Forêt aléatoire monotone :\")\n",
    "@btime Mon_Forest_RI(data2, ntrees, n_samples2, R_max, T, target2, attributes2);"
   ]
  },
  {
   "cell_type": "code",
   "execution_count": 72,
   "id": "ddfddef0",
   "metadata": {},
   "outputs": [
    {
     "name": "stdout",
     "output_type": "stream",
     "text": [
      "ID3 :   271.209 ms (2894569 allocations: 140.61 MiB)\n",
      "ID3 monotone :   305.745 s (6502092087 allocations: 97.21 GiB)\n",
      "C4.5 :   3.006 s (29383490 allocations: 1.63 GiB)\n",
      "C4.5 monotone :   1415.348 s (5332805523 allocations: 81.11 GiB)\n",
      "Ranking Tree :   2.868 s (20354156 allocations: 1.33 GiB)\n",
      "Ranking Tree monotone :   1508.894 s (9232276323 allocations: 139.21 GiB)\n",
      "CART :   2.797 s (26267553 allocations: 1.49 GiB)\n",
      "CART monotone :   1556.592 s (32960678 allocations: 2.01 GiB)\n",
      "Forêt aléatoire :   18.202 s (137918127 allocations: 8.33 GiB)\n",
      "Forêt aléatoire monotone :  116.427 s (182189916 allocations: 11.38 GiB)\n"
     ]
    }
   ],
   "source": [
    "print(\"ID3 : \")\n",
    "@btime ID3(data3, attributes3, target3)\n",
    "\n",
    "print(\"ID3 monotone : \")\n",
    "@btime MON_ID3(data3, target3, attributes3, [], DataFrame(col=Vector()), R)\n",
    "\n",
    "print(\"C4.5 : \")\n",
    "@btime C4_5_con(data3, target3, attributes3)\n",
    "\n",
    "print(\"C4.5 monotone : \")\n",
    "@btime MON_C4_5_con(data3, target3, attributes3, [], DataFrame(col=Vector()), R)\n",
    "\n",
    "print(\"Ranking Tree : \")\n",
    "@btime RankTree(data3, target3, attributes3)\n",
    "\n",
    "print(\"Ranking Tree monotone : \")\n",
    "@btime mon_RankTree(data3, target3, attributes3, [], DataFrame(col=Vector()), R)\n",
    "\n",
    "print(\"CART : \")\n",
    "@btime cart(data3, target3, attributes3)\n",
    "\n",
    "print(\"CART monotone : \")\n",
    "@btime mon_cart(data3, target3, attributes3, [], DataFrame(col=Vector()), R)\n",
    "\n",
    "print(\"Forêt aléatoire : \")\n",
    "@btime Forest_RI(data3, ntrees, n_samples3, attributes3, target3)\n",
    "\n",
    "print(\"Forêt aléatoire monotone :\")\n",
    "@btime Mon_Forest_RI(data3, ntrees, n_samples3, R_max, T, target3, attributes3);"
   ]
  },
  {
   "cell_type": "markdown",
   "id": "37168e2c",
   "metadata": {},
   "source": [
    "## Expériences"
   ]
  },
  {
   "cell_type": "markdown",
   "id": "afced53b",
   "metadata": {},
   "source": [
    "### Car evaluation"
   ]
  },
  {
   "cell_type": "code",
   "execution_count": 93,
   "id": "171e2298",
   "metadata": {},
   "outputs": [],
   "source": [
    "don = DataFrame()\n",
    "don[!,\"train\"] = Vector{Any}(missing, n_exp)\n",
    "don[!,\"test\"] = Vector{Any}(missing, n_exp)\n",
    "\n",
    "# ID3\n",
    "TREE1 = DataFrame()\n",
    "TREE1[!,\"tree\"] = Vector{Any}(missing, n_exp)\n",
    "TREE1[!,\"pred\"] = Vector{Any}(missing, n_exp)\n",
    "\n",
    "# C4.5\n",
    "TREE2 = DataFrame()\n",
    "TREE2[!,\"tree\"] = Vector{Any}(missing, n_exp)\n",
    "TREE2[!,\"pred\"] = Vector{Any}(missing, n_exp)\n",
    "\n",
    "# CART\n",
    "TREE3 = DataFrame()\n",
    "TREE3[!,\"tree\"] = Vector{Any}(missing, n_exp)\n",
    "TREE3[!,\"pred\"] = Vector{Any}(missing, n_exp)\n",
    "\n",
    "# Ranking Tree\n",
    "TREE4 = DataFrame()\n",
    "TREE4[!,\"tree\"] = Vector{Any}(missing, n_exp)\n",
    "TREE4[!,\"pred\"] = Vector{Any}(missing, n_exp)\n",
    "\n",
    "# ID3 monotone\n",
    "TREE5 = DataFrame()\n",
    "TREE5[!,\"tree\"] = Vector{Any}(missing, n_exp)\n",
    "TREE5[!,\"pred\"] = Vector{Any}(missing, n_exp)\n",
    "\n",
    "# C4.5 monotone\n",
    "TREE6 = DataFrame()\n",
    "TREE6[!,\"tree\"] = Vector{Any}(missing, n_exp)\n",
    "TREE6[!,\"pred\"] = Vector{Any}(missing, n_exp)\n",
    "\n",
    "# CART monotone\n",
    "TREE7 = DataFrame()\n",
    "TREE7[!,\"tree\"] = Vector{Any}(missing, n_exp)\n",
    "TREE7[!,\"pred\"] = Vector{Any}(missing, n_exp)\n",
    "\n",
    "# Ranking Tree monotone\n",
    "TREE8 = DataFrame()\n",
    "TREE8[!,\"tree\"] = Vector{Any}(missing, n_exp)\n",
    "TREE8[!,\"pred\"] = Vector{Any}(missing, n_exp)\n",
    "\n",
    "# forêt aléatoire\n",
    "FOREST1 = DataFrame()\n",
    "FOREST1[!,\"tree\"] = Vector{Any}(missing, n_exp)\n",
    "FOREST1[!,\"pred\"] = Vector{Any}(missing, n_exp)\n",
    "\n",
    "# forêt aléatoire monotone\n",
    "FOREST2 = DataFrame()\n",
    "FOREST2[!,\"tree\"] = Vector{Any}(missing, n_exp)\n",
    "FOREST2[!,\"pred\"] = Vector{Any}(missing, n_exp)\n",
    "\n",
    "for i in 1:n_exp\n",
    "    (don[i,\"train\"], don[i,\"test\"]) =  partition(data1, n_split, shuffle=true)\n",
    "    TREE1[i,\"tree\"] = ID3(don[i,\"train\"], attributes1, target1)\n",
    "    TREE2[i,\"tree\"] = C4_5(don[i,\"train\"], target1, attributes1, max_d, min_s)\n",
    "    TREE3[i,\"tree\"] = cart(don[i,\"train\"], target1, attributes1, max_d, min_s)\n",
    "    TREE4[i,\"tree\"] = RankTree(don[i,\"train\"], target1, attributes1, max_d, min_s)\n",
    "    TREE5[i,\"tree\"] = MON_ID3(don[i,\"train\"], target1, attributes1, [], DataFrame(col=Vector()), R, max_d, min_s)\n",
    "    TREE6[i,\"tree\"] = MON_C4_5(don[i,\"train\"], target1, attributes1, [], DataFrame(col=Vector()), R, max_d, min_s)\n",
    "    TREE7[i,\"tree\"] = mon_cart(don[i,\"train\"], target1, attributes1, [], DataFrame(col=Vector()), R, max_d, min_s)\n",
    "    TREE8[i,\"tree\"] = mon_RankTree(don[i,\"train\"], target1, attributes1, [], DataFrame(col=Vector()), R, max_d, min_s)\n",
    "    FOREST1[i,\"tree\"] = Forest_RI(don[i,\"train\"], ntrees, n_samples1, attributes1, target1)\n",
    "    FOREST2[i,\"tree\"] = Mon_Forest_RI(don[i,\"train\"], ntrees, n_samples1, R_max, T, target1, attributes1, max_d, min_s)\n",
    "    \n",
    "    n = size(don[i,\"test\"],1)\n",
    "    TREE1[i,\"pred\"] = zeros(Int,n)\n",
    "    TREE2[i,\"pred\"] = zeros(Int,n)\n",
    "    TREE3[i,\"pred\"] = zeros(Int,n)\n",
    "    TREE4[i,\"pred\"] = zeros(Int,n)\n",
    "    TREE5[i,\"pred\"] = zeros(Int,n)\n",
    "    TREE6[i,\"pred\"] = zeros(Int,n)\n",
    "    TREE7[i,\"pred\"] = zeros(Int,n)\n",
    "    TREE8[i,\"pred\"] = zeros(Int,n)\n",
    "    FOREST1[i,\"pred\"] = zeros(Int,n)\n",
    "    FOREST2[i,\"pred\"] = zeros(Int,n)\n",
    "    for j in 1:n\n",
    "        TREE1[i,\"pred\"][j] = predict_tree(TREE1[i,\"tree\"], don[i,\"test\"][j,1:end-1])\n",
    "        TREE2[i,\"pred\"][j] = predict_tree(TREE2[i,\"tree\"], don[i,\"test\"][j,1:end-1])\n",
    "        TREE3[i,\"pred\"][j] = predict_bi(TREE3[i,\"tree\"], don[i,\"test\"][j,1:end-1])\n",
    "        TREE4[i,\"pred\"][j] = predict_bi(TREE4[i,\"tree\"], don[i,\"test\"][j,1:end-1])\n",
    "        TREE5[i,\"pred\"][j] = predict_tree(TREE5[i,\"tree\"], don[i,\"test\"][j,1:end-1])\n",
    "        TREE6[i,\"pred\"][j] = predict_tree(TREE6[i,\"tree\"], don[i,\"test\"][j,1:end-1])\n",
    "        TREE7[i,\"pred\"][j] = predict_bi(TREE7[i,\"tree\"], don[i,\"test\"][j,1:end-1])\n",
    "        TREE8[i,\"pred\"][j] = predict_bi(TREE8[i,\"tree\"], don[i,\"test\"][j,1:end-1])\n",
    "        FOREST1[i,\"pred\"][j] = predict_rf(FOREST1[i,\"tree\"], don[i,\"test\"][j,1:end-1])\n",
    "        FOREST2[i,\"pred\"][j] = predict_rf(FOREST2[i,\"tree\"], don[i,\"test\"][j,1:end-1])\n",
    "    end\n",
    "end\n",
    "\n",
    "TREE = Dict()\n",
    "TREE[\"ID3\"] = TREE1\n",
    "TREE[\"C45\"] = TREE2\n",
    "TREE[\"CART\"] = TREE3\n",
    "TREE[\"RankTree\"] = TREE4\n",
    "TREE[\"MON_ID3\"] = TREE5\n",
    "TREE[\"MON_C45\"] = TREE6\n",
    "TREE[\"MON_CART\"] = TREE7\n",
    "TREE[\"MON_RankTree\"] = TREE8\n",
    "TREE[\"FOREST1\"] = FOREST1\n",
    "TREE[\"FOREST2\"] = FOREST2;"
   ]
  },
  {
   "cell_type": "code",
   "execution_count": 84,
   "id": "6ae10e22",
   "metadata": {},
   "outputs": [],
   "source": [
    "for j in 1:n_exp\n",
    "    CSV.write(string(\"Données1_Train\",j,\".csv\"), don[j,\"train\"])\n",
    "    CSV.write(string(\"Données1_Test\",j,\".csv\"), don[j,\"test\"])\n",
    "    for i in keys(TREE)\n",
    "        D = copy(don[j,\"test\"])\n",
    "        D[:,end] = TREE[i][j,\"pred\"]\n",
    "        CSV.write(string(\"Données1_\",i,\"_Pred\",j,\".csv\"), D)\n",
    "    end\n",
    "end\n",
    "for i in keys(TREE)\n",
    "    if i!=\"FOREST2\" && i!=\"FOREST1\"\n",
    "        EVAL = evaluation(TREE[i], don, n_exp, attributes1, target1)\n",
    "    else\n",
    "        EVAL = evaluation2(TREE[i], don, n_exp, attributes1, target1)\n",
    "    end\n",
    "    CSV.write(string(\"Données1_\",i,\"_Eval.csv\"), EVAL)\n",
    "end"
   ]
  },
  {
   "cell_type": "markdown",
   "id": "e41448fe",
   "metadata": {},
   "source": [
    "### Segmentation"
   ]
  },
  {
   "cell_type": "code",
   "execution_count": 158,
   "id": "e84e5f64",
   "metadata": {},
   "outputs": [],
   "source": [
    "don = DataFrame()\n",
    "don[!,\"train\"] = Vector{Any}(missing, n_exp)\n",
    "don[!,\"test\"] = Vector{Any}(missing, n_exp)\n",
    "\n",
    "# ID3\n",
    "TREE1 = DataFrame()\n",
    "TREE1[!,\"tree\"] = Vector{Any}(missing, n_exp)\n",
    "TREE1[!,\"pred\"] = Vector{Any}(missing, n_exp)\n",
    "\n",
    "# C4.5\n",
    "TREE2 = DataFrame()\n",
    "TREE2[!,\"tree\"] = Vector{Any}(missing, n_exp)\n",
    "TREE2[!,\"pred\"] = Vector{Any}(missing, n_exp)\n",
    "\n",
    "# CART\n",
    "TREE3 = DataFrame()\n",
    "TREE3[!,\"tree\"] = Vector{Any}(missing, n_exp)\n",
    "TREE3[!,\"pred\"] = Vector{Any}(missing, n_exp)\n",
    "\n",
    "# Ranking Tree\n",
    "TREE4 = DataFrame()\n",
    "TREE4[!,\"tree\"] = Vector{Any}(missing, n_exp)\n",
    "TREE4[!,\"pred\"] = Vector{Any}(missing, n_exp)\n",
    "\n",
    "# ID3 monotone\n",
    "TREE5 = DataFrame()\n",
    "TREE5[!,\"tree\"] = Vector{Any}(missing, n_exp)\n",
    "TREE5[!,\"pred\"] = Vector{Any}(missing, n_exp)\n",
    "\n",
    "# C4.5 monotone\n",
    "TREE6 = DataFrame()\n",
    "TREE6[!,\"tree\"] = Vector{Any}(missing, n_exp)\n",
    "TREE6[!,\"pred\"] = Vector{Any}(missing, n_exp)\n",
    "\n",
    "# CART monotone\n",
    "TREE7 = DataFrame()\n",
    "TREE7[!,\"tree\"] = Vector{Any}(missing, n_exp)\n",
    "TREE7[!,\"pred\"] = Vector{Any}(missing, n_exp)\n",
    "\n",
    "# Ranking Tree monotone\n",
    "TREE8 = DataFrame()\n",
    "TREE8[!,\"tree\"] = Vector{Any}(missing, n_exp)\n",
    "TREE8[!,\"pred\"] = Vector{Any}(missing, n_exp)\n",
    "\n",
    "# forêt aléatoire\n",
    "FOREST1 = DataFrame()\n",
    "FOREST1[!,\"tree\"] = Vector{Any}(missing, n_exp)\n",
    "FOREST1[!,\"pred\"] = Vector{Any}(missing, n_exp)\n",
    "\n",
    "# forêt aléatoire monotone\n",
    "FOREST2 = DataFrame()\n",
    "FOREST2[!,\"tree\"] = Vector{Any}(missing, n_exp)\n",
    "FOREST2[!,\"pred\"] = Vector{Any}(missing, n_exp)\n",
    "\n",
    "for i in 1:n_exp\n",
    "    (don[i,\"train\"], don[i,\"test\"]) =  partition(data2, n_split, shuffle=true)\n",
    "    TREE1[i,\"tree\"] = ID3(don[i,\"train\"], attributes2, target2)\n",
    "    TREE2[i,\"tree\"] = C4_5_con(don[i,\"train\"], target2, attributes2, max_d, min_s)\n",
    "    TREE3[i,\"tree\"] = cart(don[i,\"train\"], target2, attributes2, max_d, min_s)\n",
    "    TREE4[i,\"tree\"] = RankTree(don[i,\"train\"], target2, attributes2, max_d, min_s)\n",
    "    TREE5[i,\"tree\"] = MON_ID3(don[i,\"train\"], target2, attributes2, [], DataFrame(col=Vector()), R, max_d, min_s)\n",
    "    TREE6[i,\"tree\"] = MON_C4_5_con(don[i,\"train\"], target2, attributes2, [], DataFrame(col=Vector()), R, max_d, min_s)\n",
    "    TREE7[i,\"tree\"] = mon_cart(don[i,\"train\"], target2, attributes2, [], DataFrame(col=Vector()), R, max_d, min_s)\n",
    "    TREE8[i,\"tree\"] = mon_RankTree(don[i,\"train\"], target2, attributes2, [], DataFrame(col=Vector()), R, max_d, min_s)\n",
    "    FOREST1[i,\"tree\"] = Forest_RI(don[i,\"train\"], ntrees, n_samples2, attributes2, target2)\n",
    "    FOREST2[i,\"tree\"] = Mon_Forest_RI(don[i,\"train\"], ntrees, n_samples2, R_max, T, target2, attributes2, max_d, min_s)\n",
    "    \n",
    "    n = size(don[i,\"test\"],1)\n",
    "    TREE1[i,\"pred\"] = zeros(Int,n)\n",
    "    TREE2[i,\"pred\"] = zeros(Int,n)\n",
    "    TREE3[i,\"pred\"] = zeros(Int,n)\n",
    "    TREE4[i,\"pred\"] = zeros(Int,n)\n",
    "    TREE5[i,\"pred\"] = zeros(Int,n)\n",
    "    TREE6[i,\"pred\"] = zeros(Int,n)\n",
    "    TREE7[i,\"pred\"] = zeros(Int,n)\n",
    "    TREE8[i,\"pred\"] = zeros(Int,n)\n",
    "    FOREST1[i,\"pred\"] = zeros(Int,n)\n",
    "    FOREST2[i,\"pred\"] = zeros(Int,n)\n",
    "    for j in 1:n\n",
    "        TREE1[i,\"pred\"][j] = predict_tree(TREE1[i,\"tree\"], don[i,\"test\"][j,1:end-1])\n",
    "        TREE2[i,\"pred\"][j] = predict_bi(TREE2[i,\"tree\"], don[i,\"test\"][j,1:end-1])\n",
    "        TREE3[i,\"pred\"][j] = predict_bi(TREE3[i,\"tree\"], don[i,\"test\"][j,1:end-1])\n",
    "        TREE4[i,\"pred\"][j] = predict_bi(TREE4[i,\"tree\"], don[i,\"test\"][j,1:end-1])\n",
    "        TREE5[i,\"pred\"][j] = predict_tree(TREE5[i,\"tree\"], don[i,\"test\"][j,1:end-1])\n",
    "        TREE6[i,\"pred\"][j] = predict_bi(TREE6[i,\"tree\"], don[i,\"test\"][j,1:end-1])\n",
    "        TREE7[i,\"pred\"][j] = predict_bi(TREE7[i,\"tree\"], don[i,\"test\"][j,1:end-1])\n",
    "        TREE8[i,\"pred\"][j] = predict_bi(TREE8[i,\"tree\"], don[i,\"test\"][j,1:end-1])\n",
    "        FOREST1[i,\"pred\"][j] = predict_rf(FOREST1[i,\"tree\"], don[i,\"test\"][j,1:end-1])\n",
    "        FOREST2[i,\"pred\"][j] = predict_rf(FOREST2[i,\"tree\"], don[i,\"test\"][j,1:end-1])\n",
    "    end\n",
    "end\n",
    "\n",
    "TREE = Dict()\n",
    "TREE[\"ID3\"] = TREE1\n",
    "TREE[\"C45\"] = TREE2\n",
    "TREE[\"CART\"] = TREE3\n",
    "TREE[\"RankTree\"] = TREE4\n",
    "TREE[\"MON_ID3\"] = TREE5\n",
    "TREE[\"MON_C45\"] = TREE6\n",
    "TREE[\"MON_CART\"] = TREE7\n",
    "TREE[\"MON_RankTree\"] = TREE8\n",
    "TREE[\"FOREST1\"] = FOREST1\n",
    "TREE[\"FOREST2\"] = FOREST2;\n",
    "\n"
   ]
  },
  {
   "cell_type": "code",
   "execution_count": 159,
   "id": "d69ec6c6",
   "metadata": {},
   "outputs": [],
   "source": [
    "for j in 1:n_exp\n",
    "    CSV.write(string(\"Données2_Train\",j,\".csv\"), don[j,\"train\"])\n",
    "    CSV.write(string(\"Données2_Test\",j,\".csv\"), don[j,\"test\"])\n",
    "    for i in keys(TREE)\n",
    "        D = copy(don[j,\"test\"])\n",
    "        D[:,end] = TREE[i][j,\"pred\"]\n",
    "        CSV.write(string(\"Données2_\",i,\"_Pred\",j,\".csv\"), D)\n",
    "    end\n",
    "end\n",
    "for i in keys(TREE)\n",
    "    if i!=\"FOREST2\" && i!=\"FOREST1\"\n",
    "        EVAL = evaluation(TREE[i], don, n_exp, attributes2, target2)\n",
    "    else\n",
    "        EVAL = evaluation2(TREE[i], don, n_exp, attributes2, target2)\n",
    "    end\n",
    "    CSV.write(string(\"Données2_\",i,\"_Eval.csv\"), EVAL)\n",
    "end"
   ]
  },
  {
   "cell_type": "markdown",
   "id": "2107790e",
   "metadata": {},
   "source": [
    "### Yeast"
   ]
  },
  {
   "cell_type": "code",
   "execution_count": 58,
   "id": "38b10570",
   "metadata": {},
   "outputs": [],
   "source": [
    "don = DataFrame()\n",
    "don[!,\"train\"] = Vector{Any}(missing, n_exp)\n",
    "don[!,\"test\"] = Vector{Any}(missing, n_exp)\n",
    "\n",
    "# ID3\n",
    "TREE1 = DataFrame()\n",
    "TREE1[!,\"tree\"] = Vector{Any}(missing, n_exp)\n",
    "TREE1[!,\"pred\"] = Vector{Any}(missing, n_exp)\n",
    "\n",
    "# C4.5\n",
    "TREE2 = DataFrame()\n",
    "TREE2[!,\"tree\"] = Vector{Any}(missing, n_exp)\n",
    "TREE2[!,\"pred\"] = Vector{Any}(missing, n_exp)\n",
    "\n",
    "# CART\n",
    "TREE3 = DataFrame()\n",
    "TREE3[!,\"tree\"] = Vector{Any}(missing, n_exp)\n",
    "TREE3[!,\"pred\"] = Vector{Any}(missing, n_exp)\n",
    "\n",
    "# Ranking Tree\n",
    "TREE4 = DataFrame()\n",
    "TREE4[!,\"tree\"] = Vector{Any}(missing, n_exp)\n",
    "TREE4[!,\"pred\"] = Vector{Any}(missing, n_exp)\n",
    "\n",
    "# ID3 monotone\n",
    "TREE5 = DataFrame()\n",
    "TREE5[!,\"tree\"] = Vector{Any}(missing, n_exp)\n",
    "TREE5[!,\"pred\"] = Vector{Any}(missing, n_exp)\n",
    "\n",
    "# C4.5 monotone\n",
    "TREE6 = DataFrame()\n",
    "TREE6[!,\"tree\"] = Vector{Any}(missing, n_exp)\n",
    "TREE6[!,\"pred\"] = Vector{Any}(missing, n_exp)\n",
    "\n",
    "# CART monotone\n",
    "TREE7 = DataFrame()\n",
    "TREE7[!,\"tree\"] = Vector{Any}(missing, n_exp)\n",
    "TREE7[!,\"pred\"] = Vector{Any}(missing, n_exp)\n",
    "\n",
    "# Ranking Tree monotone\n",
    "TREE8 = DataFrame()\n",
    "TREE8[!,\"tree\"] = Vector{Any}(missing, n_exp)\n",
    "TREE8[!,\"pred\"] = Vector{Any}(missing, n_exp)\n",
    "\n",
    "# forêt aléatoire\n",
    "FOREST1 = DataFrame()\n",
    "FOREST1[!,\"tree\"] = Vector{Any}(missing, n_exp)\n",
    "FOREST1[!,\"pred\"] = Vector{Any}(missing, n_exp)\n",
    "\n",
    "# forêt aléatoire monotone\n",
    "FOREST2 = DataFrame()\n",
    "FOREST2[!,\"tree\"] = Vector{Any}(missing, n_exp)\n",
    "FOREST2[!,\"pred\"] = Vector{Any}(missing, n_exp)\n",
    "\n",
    "for i in 1:n_exp\n",
    "    (don[i,\"train\"], don[i,\"test\"]) =  partition(data3, n_split, shuffle=true)\n",
    "    TREE1[i,\"tree\"] = ID3(don[i,\"train\"], attributes3, target3)\n",
    "    TREE2[i,\"tree\"] = C4_5_con(don[i,\"train\"], target3, attributes3, max_d, min_s)\n",
    "    TREE3[i,\"tree\"] = cart(don[i,\"train\"], target3, attributes3, max_d, min_s)\n",
    "    TREE4[i,\"tree\"] = RankTree(don[i,\"train\"], target3, attributes3, max_d, min_s)\n",
    "    TREE5[i,\"tree\"] = MON_ID3(don[i,\"train\"], target3, attributes3, [], DataFrame(col=Vector()), R, max_d, min_s)\n",
    "    TREE6[i,\"tree\"] = MON_C4_5_con(don[i,\"train\"], target3, attributes3, [], DataFrame(col=Vector()), R, max_d, min_s)\n",
    "    TREE7[i,\"tree\"] = mon_cart(don[i,\"train\"], target3, attributes3, [], DataFrame(col=Vector()), R, max_d, min_s)\n",
    "    TREE8[i,\"tree\"] = mon_RankTree(don[i,\"train\"], target3, attributes3, [], DataFrame(col=Vector()), R, max_d, min_s)\n",
    "    FOREST1[i,\"tree\"] = Forest_RI(don[i,\"train\"], ntrees, n_samples3, attributes3, target3)\n",
    "    FOREST2[i,\"tree\"] = Mon_Forest_RI(don[i,\"train\"], ntrees, n_samples3, R_max, T, target3, attributes3, max_d, min_s)\n",
    "    \n",
    "    n = size(don[i,\"test\"],1)\n",
    "    TREE1[i,\"pred\"] = zeros(Int,n)\n",
    "    TREE2[i,\"pred\"] = zeros(Int,n)\n",
    "    TREE3[i,\"pred\"] = zeros(Int,n)\n",
    "    TREE4[i,\"pred\"] = zeros(Int,n)\n",
    "    TREE5[i,\"pred\"] = zeros(Int,n)\n",
    "    TREE6[i,\"pred\"] = zeros(Int,n)\n",
    "    TREE7[i,\"pred\"] = zeros(Int,n)\n",
    "    TREE8[i,\"pred\"] = zeros(Int,n)\n",
    "    FOREST1[i,\"pred\"] = zeros(Int,n)\n",
    "    FOREST2[i,\"pred\"] = zeros(Int,n)\n",
    "    for j in 1:n\n",
    "        TREE1[i,\"pred\"][j] = predict_tree(TREE1[i,\"tree\"], don[i,\"test\"][j,1:end-1])\n",
    "        TREE2[i,\"pred\"][j] = predict_bi(TREE2[i,\"tree\"], don[i,\"test\"][j,1:end-1])\n",
    "        TREE3[i,\"pred\"][j] = predict_bi(TREE3[i,\"tree\"], don[i,\"test\"][j,1:end-1])\n",
    "        TREE4[i,\"pred\"][j] = predict_bi(TREE4[i,\"tree\"], don[i,\"test\"][j,1:end-1])\n",
    "        TREE5[i,\"pred\"][j] = predict_tree(TREE5[i,\"tree\"], don[i,\"test\"][j,1:end-1])\n",
    "        TREE6[i,\"pred\"][j] = predict_bi(TREE6[i,\"tree\"], don[i,\"test\"][j,1:end-1])\n",
    "        TREE7[i,\"pred\"][j] = predict_bi(TREE7[i,\"tree\"], don[i,\"test\"][j,1:end-1])\n",
    "        TREE8[i,\"pred\"][j] = predict_bi(TREE8[i,\"tree\"], don[i,\"test\"][j,1:end-1])\n",
    "        FOREST1[i,\"pred\"][j] = predict_rf(FOREST1[i,\"tree\"], don[i,\"test\"][j,1:end-1])\n",
    "        FOREST2[i,\"pred\"][j] = predict_rf(FOREST2[i,\"tree\"], don[i,\"test\"][j,1:end-1])\n",
    "    end\n",
    "end\n",
    "\n",
    "TREE = Dict()\n",
    "TREE[\"ID3\"] = TREE1\n",
    "TREE[\"C45\"] = TREE2\n",
    "TREE[\"CART\"] = TREE3\n",
    "TREE[\"RankTree\"] = TREE4\n",
    "TREE[\"MON_ID3\"] = TREE5\n",
    "TREE[\"MON_C45\"] = TREE6\n",
    "TREE[\"MON_CART\"] = TREE7\n",
    "TREE[\"MON_RankTree\"] = TREE8\n",
    "TREE[\"FOREST1\"] = FOREST1\n",
    "TREE[\"FOREST2\"] = FOREST2;"
   ]
  },
  {
   "cell_type": "code",
   "execution_count": 60,
   "id": "2fd1fe86",
   "metadata": {},
   "outputs": [],
   "source": [
    "for j in 1:n_exp\n",
    "    CSV.write(string(\"Données3_Train\",j,\".csv\"), don[j,\"train\"])\n",
    "    CSV.write(string(\"Données3_Test\",j,\".csv\"), don[j,\"test\"])\n",
    "    for i in keys(TREE)\n",
    "        D = copy(don[j,\"test\"])\n",
    "        D[:,end] = TREE[i][j,\"pred\"]\n",
    "        CSV.write(string(\"Données3_\",i,\"_Pred\",j,\".csv\"), D)\n",
    "    end\n",
    "end\n",
    "for i in keys(TREE)\n",
    "    if i!=\"FOREST2\" && i!=\"FOREST1\"\n",
    "        EVAL = evaluation(TREE[i], don, n_exp, attributes3, target3)\n",
    "    else\n",
    "        EVAL = evaluation2(TREE[i], don, n_exp, attributes3, target3)\n",
    "    end\n",
    "    CSV.write(string(\"Données3_\",i,\"_Eval.csv\"), EVAL)\n",
    "end"
   ]
  },
  {
   "cell_type": "markdown",
   "id": "771c2f4b",
   "metadata": {},
   "source": [
    "## Résultats"
   ]
  },
  {
   "cell_type": "code",
   "execution_count": 94,
   "id": "838716b1",
   "metadata": {},
   "outputs": [],
   "source": [
    "resultat1 = DataFrame()\n",
    "resultat1[!,\"Methode\"] = Vector{String}(undef, 10)\n",
    "resultat1[!,\"INM\"] = zeros(10)\n",
    "resultat1[!,\"MAE\"] = zeros(10)\n",
    "resultat1[!,\"MZE\"] = zeros(10)\n",
    "resultat1[!,\"leaves\"] = zeros(10)\n",
    "resultat1[!,\"tau\"] = zeros(10)\n",
    "\n",
    "resultat2 = DataFrame()\n",
    "resultat2[!,\"Methode\"] = Vector{String}(undef, 10)\n",
    "resultat2[!,\"INM\"] = zeros(10)\n",
    "resultat2[!,\"MAE\"] = zeros(10)\n",
    "resultat2[!,\"MZE\"] = zeros(10)\n",
    "resultat2[!,\"leaves\"] = zeros(10)\n",
    "resultat2[!,\"tau\"] = zeros(10)\n",
    "\n",
    "resultat3 = DataFrame()\n",
    "resultat3[!,\"Methode\"] = Vector{String}(undef, 10)\n",
    "resultat3[!,\"INM\"] = zeros(10)\n",
    "resultat3[!,\"MAE\"] = zeros(10)\n",
    "resultat3[!,\"MZE\"] = zeros(10)\n",
    "resultat3[!,\"leaves\"] = zeros(10)\n",
    "resultat3[!,\"tau\"] = zeros(10)\n",
    "\n",
    "k=0\n",
    "for i in keys(TREE)\n",
    "    k+=1\n",
    "    D = CSV.read(string(\"Données1_\",i,\"_Eval.csv\"), DataFrame)\n",
    "    resultat1[k,\"Methode\"] = i\n",
    "    for j in names(D)\n",
    "        resultat1[k,j] = mean(D[:,j])\n",
    "    end\n",
    "    \n",
    "    D = CSV.read(string(\"Données2_\",i,\"_Eval.csv\"), DataFrame)\n",
    "    resultat2[k,\"Methode\"] = i\n",
    "    for j in names(D)\n",
    "        resultat2[k,j] = mean(D[:,j])\n",
    "    end\n",
    "    \n",
    "    D = CSV.read(string(\"Données3_\",i,\"_Eval.csv\"), DataFrame)\n",
    "    resultat3[k,\"Methode\"] = i\n",
    "    for j in names(D)\n",
    "        resultat3[k,j] = mean(D[:,j])\n",
    "    end\n",
    "    \n",
    "end"
   ]
  },
  {
   "cell_type": "markdown",
   "id": "aa65b9f7",
   "metadata": {},
   "source": [
    "### Car"
   ]
  },
  {
   "cell_type": "code",
   "execution_count": 189,
   "id": "344b1478",
   "metadata": {
    "scrolled": false
   },
   "outputs": [
    {
     "data": {
      "text/html": [
       "<div><div style = \"float: left;\"><span>10×6 DataFrame</span></div><div style = \"clear: both;\"></div></div><div class = \"data-frame\" style = \"overflow-x: scroll;\"><table class = \"data-frame\" style = \"margin-bottom: 6px;\"><thead><tr class = \"header\"><th class = \"rowNumber\" style = \"font-weight: bold; text-align: right;\">Row</th><th style = \"text-align: left;\">Methode</th><th style = \"text-align: left;\">INM</th><th style = \"text-align: left;\">MAE</th><th style = \"text-align: left;\">MZE</th><th style = \"text-align: left;\">leaves</th><th style = \"text-align: left;\">tau</th></tr><tr class = \"subheader headerLastRow\"><th class = \"rowNumber\" style = \"font-weight: bold; text-align: right;\"></th><th title = \"String\" style = \"text-align: left;\">String</th><th title = \"Float64\" style = \"text-align: left;\">Float64</th><th title = \"Float64\" style = \"text-align: left;\">Float64</th><th title = \"Float64\" style = \"text-align: left;\">Float64</th><th title = \"Float64\" style = \"text-align: left;\">Float64</th><th title = \"Float64\" style = \"text-align: left;\">Float64</th></tr></thead><tbody><tr><td class = \"rowNumber\" style = \"font-weight: bold; text-align: right;\">1</td><td style = \"text-align: left;\">MON_ID3</td><td style = \"text-align: right;\">0.000657939</td><td style = \"text-align: right;\">0.0906371</td><td style = \"text-align: right;\">0.0784749</td><td style = \"text-align: right;\">204.15</td><td style = \"text-align: right;\">0.799906</td></tr><tr><td class = \"rowNumber\" style = \"font-weight: bold; text-align: right;\">2</td><td style = \"text-align: left;\">MON_C45</td><td style = \"text-align: right;\">0.000568322</td><td style = \"text-align: right;\">0.0867761</td><td style = \"text-align: right;\">0.075</td><td style = \"text-align: right;\">203.45</td><td style = \"text-align: right;\">0.806494</td></tr><tr><td class = \"rowNumber\" style = \"font-weight: bold; text-align: right;\">3</td><td style = \"text-align: left;\">CART</td><td style = \"text-align: right;\">0.000130318</td><td style = \"text-align: right;\">0.0315637</td><td style = \"text-align: right;\">0.027027</td><td style = \"text-align: right;\">66.5</td><td style = \"text-align: right;\">0.931979</td></tr><tr><td class = \"rowNumber\" style = \"font-weight: bold; text-align: right;\">4</td><td style = \"text-align: left;\">MON_RankTree</td><td style = \"text-align: right;\">0.000169526</td><td style = \"text-align: right;\">0.0374517</td><td style = \"text-align: right;\">0.0316602</td><td style = \"text-align: right;\">77.9</td><td style = \"text-align: right;\">0.913924</td></tr><tr><td class = \"rowNumber\" style = \"font-weight: bold; text-align: right;\">5</td><td style = \"text-align: left;\">FOREST2</td><td style = \"text-align: right;\">1.12021e-6</td><td style = \"text-align: right;\">0.0660232</td><td style = \"text-align: right;\">0.057529</td><td style = \"text-align: right;\">18.738</td><td style = \"text-align: right;\">0.860002</td></tr><tr><td class = \"rowNumber\" style = \"font-weight: bold; text-align: right;\">6</td><td style = \"text-align: left;\">ID3</td><td style = \"text-align: right;\">0.000561601</td><td style = \"text-align: right;\">0.0868726</td><td style = \"text-align: right;\">0.0758687</td><td style = \"text-align: right;\">214.45</td><td style = \"text-align: right;\">0.805094</td></tr><tr><td class = \"rowNumber\" style = \"font-weight: bold; text-align: right;\">7</td><td style = \"text-align: left;\">RankTree</td><td style = \"text-align: right;\">0.000181475</td><td style = \"text-align: right;\">0.03861</td><td style = \"text-align: right;\">0.032722</td><td style = \"text-align: right;\">77.8</td><td style = \"text-align: right;\">0.911709</td></tr><tr><td class = \"rowNumber\" style = \"font-weight: bold; text-align: right;\">8</td><td style = \"text-align: left;\">C45</td><td style = \"text-align: right;\">0.000586619</td><td style = \"text-align: right;\">0.0871622</td><td style = \"text-align: right;\">0.0755792</td><td style = \"text-align: right;\">204.25</td><td style = \"text-align: right;\">0.807633</td></tr><tr><td class = \"rowNumber\" style = \"font-weight: bold; text-align: right;\">9</td><td style = \"text-align: left;\">MON_CART</td><td style = \"text-align: right;\">0.00012397</td><td style = \"text-align: right;\">0.0305985</td><td style = \"text-align: right;\">0.0260618</td><td style = \"text-align: right;\">66.7</td><td style = \"text-align: right;\">0.93537</td></tr><tr><td class = \"rowNumber\" style = \"font-weight: bold; text-align: right;\">10</td><td style = \"text-align: left;\">FOREST1</td><td style = \"text-align: right;\">1.68032e-5</td><td style = \"text-align: right;\">0.0657336</td><td style = \"text-align: right;\">0.0568533</td><td style = \"text-align: right;\">20.294</td><td style = \"text-align: right;\">0.863547</td></tr></tbody></table></div>"
      ],
      "text/latex": [
       "\\begin{tabular}{r|cccccc}\n",
       "\t& Methode & INM & MAE & MZE & leaves & tau\\\\\n",
       "\t\\hline\n",
       "\t& String & Float64 & Float64 & Float64 & Float64 & Float64\\\\\n",
       "\t\\hline\n",
       "\t1 & MON\\_ID3 & 0.000657939 & 0.0906371 & 0.0784749 & 204.15 & 0.799906 \\\\\n",
       "\t2 & MON\\_C45 & 0.000568322 & 0.0867761 & 0.075 & 203.45 & 0.806494 \\\\\n",
       "\t3 & CART & 0.000130318 & 0.0315637 & 0.027027 & 66.5 & 0.931979 \\\\\n",
       "\t4 & MON\\_RankTree & 0.000169526 & 0.0374517 & 0.0316602 & 77.9 & 0.913924 \\\\\n",
       "\t5 & FOREST2 & 1.12021e-6 & 0.0660232 & 0.057529 & 18.738 & 0.860002 \\\\\n",
       "\t6 & ID3 & 0.000561601 & 0.0868726 & 0.0758687 & 214.45 & 0.805094 \\\\\n",
       "\t7 & RankTree & 0.000181475 & 0.03861 & 0.032722 & 77.8 & 0.911709 \\\\\n",
       "\t8 & C45 & 0.000586619 & 0.0871622 & 0.0755792 & 204.25 & 0.807633 \\\\\n",
       "\t9 & MON\\_CART & 0.00012397 & 0.0305985 & 0.0260618 & 66.7 & 0.93537 \\\\\n",
       "\t10 & FOREST1 & 1.68032e-5 & 0.0657336 & 0.0568533 & 20.294 & 0.863547 \\\\\n",
       "\\end{tabular}\n"
      ],
      "text/plain": [
       "\u001b[1m10×6 DataFrame\u001b[0m\n",
       "\u001b[1m Row \u001b[0m│\u001b[1m Methode      \u001b[0m\u001b[1m INM         \u001b[0m\u001b[1m MAE       \u001b[0m\u001b[1m MZE       \u001b[0m\u001b[1m leaves  \u001b[0m\u001b[1m tau      \u001b[0m\n",
       "     │\u001b[90m String       \u001b[0m\u001b[90m Float64     \u001b[0m\u001b[90m Float64   \u001b[0m\u001b[90m Float64   \u001b[0m\u001b[90m Float64 \u001b[0m\u001b[90m Float64  \u001b[0m\n",
       "─────┼────────────────────────────────────────────────────────────────────\n",
       "   1 │ MON_ID3       0.000657939  0.0906371  0.0784749  204.15   0.799906\n",
       "   2 │ MON_C45       0.000568322  0.0867761  0.075      203.45   0.806494\n",
       "   3 │ CART          0.000130318  0.0315637  0.027027    66.5    0.931979\n",
       "   4 │ MON_RankTree  0.000169526  0.0374517  0.0316602   77.9    0.913924\n",
       "   5 │ FOREST2       1.12021e-6   0.0660232  0.057529    18.738  0.860002\n",
       "   6 │ ID3           0.000561601  0.0868726  0.0758687  214.45   0.805094\n",
       "   7 │ RankTree      0.000181475  0.03861    0.032722    77.8    0.911709\n",
       "   8 │ C45           0.000586619  0.0871622  0.0755792  204.25   0.807633\n",
       "   9 │ MON_CART      0.00012397   0.0305985  0.0260618   66.7    0.93537\n",
       "  10 │ FOREST1       1.68032e-5   0.0657336  0.0568533   20.294  0.863547"
      ]
     },
     "execution_count": 189,
     "metadata": {},
     "output_type": "execute_result"
    }
   ],
   "source": [
    "resultat1"
   ]
  },
  {
   "cell_type": "markdown",
   "id": "2247755c",
   "metadata": {},
   "source": [
    "### Segmentation"
   ]
  },
  {
   "cell_type": "code",
   "execution_count": 171,
   "id": "a4d73be5",
   "metadata": {},
   "outputs": [
    {
     "data": {
      "text/html": [
       "<div><div style = \"float: left;\"><span>10×6 DataFrame</span></div><div style = \"clear: both;\"></div></div><div class = \"data-frame\" style = \"overflow-x: scroll;\"><table class = \"data-frame\" style = \"margin-bottom: 6px;\"><thead><tr class = \"header\"><th class = \"rowNumber\" style = \"font-weight: bold; text-align: right;\">Row</th><th style = \"text-align: left;\">Methode</th><th style = \"text-align: left;\">INM</th><th style = \"text-align: left;\">MAE</th><th style = \"text-align: left;\">MZE</th><th style = \"text-align: left;\">leaves</th><th style = \"text-align: left;\">tau</th></tr><tr class = \"subheader headerLastRow\"><th class = \"rowNumber\" style = \"font-weight: bold; text-align: right;\"></th><th title = \"String\" style = \"text-align: left;\">String</th><th title = \"Float64\" style = \"text-align: left;\">Float64</th><th title = \"Float64\" style = \"text-align: left;\">Float64</th><th title = \"Float64\" style = \"text-align: left;\">Float64</th><th title = \"Float64\" style = \"text-align: left;\">Float64</th><th title = \"Float64\" style = \"text-align: left;\">Float64</th></tr></thead><tbody><tr><td class = \"rowNumber\" style = \"font-weight: bold; text-align: right;\">1</td><td style = \"text-align: left;\">MON_ID3</td><td style = \"text-align: right;\">1.87674e-6</td><td style = \"text-align: right;\">0.647547</td><td style = \"text-align: right;\">0.360462</td><td style = \"text-align: right;\">1479.6</td><td style = \"text-align: right;\">0.555126</td></tr><tr><td class = \"rowNumber\" style = \"font-weight: bold; text-align: right;\">2</td><td style = \"text-align: left;\">MON_C45</td><td style = \"text-align: right;\">6.25579e-7</td><td style = \"text-align: right;\">0.0965368</td><td style = \"text-align: right;\">0.0484127</td><td style = \"text-align: right;\">68.4</td><td style = \"text-align: right;\">0.920794</td></tr><tr><td class = \"rowNumber\" style = \"font-weight: bold; text-align: right;\">3</td><td style = \"text-align: left;\">CART</td><td style = \"text-align: right;\">2.08526e-6</td><td style = \"text-align: right;\">0.0821789</td><td style = \"text-align: right;\">0.0450938</td><td style = \"text-align: right;\">58.1</td><td style = \"text-align: right;\">0.930689</td></tr><tr><td class = \"rowNumber\" style = \"font-weight: bold; text-align: right;\">4</td><td style = \"text-align: left;\">MON_RankTree</td><td style = \"text-align: right;\">2.50231e-6</td><td style = \"text-align: right;\">0.116883</td><td style = \"text-align: right;\">0.058153</td><td style = \"text-align: right;\">70.7</td><td style = \"text-align: right;\">0.904861</td></tr><tr><td class = \"rowNumber\" style = \"font-weight: bold; text-align: right;\">5</td><td style = \"text-align: left;\">FOREST2</td><td style = \"text-align: right;\">0.0</td><td style = \"text-align: right;\">0.167316</td><td style = \"text-align: right;\">0.0764791</td><td style = \"text-align: right;\">43.592</td><td style = \"text-align: right;\">0.869604</td></tr><tr><td class = \"rowNumber\" style = \"font-weight: bold; text-align: right;\">6</td><td style = \"text-align: left;\">ID3</td><td style = \"text-align: right;\">1.66821e-6</td><td style = \"text-align: right;\">0.645887</td><td style = \"text-align: right;\">0.359885</td><td style = \"text-align: right;\">1482.6</td><td style = \"text-align: right;\">0.55595</td></tr><tr><td class = \"rowNumber\" style = \"font-weight: bold; text-align: right;\">7</td><td style = \"text-align: left;\">RankTree</td><td style = \"text-align: right;\">2.29379e-6</td><td style = \"text-align: right;\">0.102886</td><td style = \"text-align: right;\">0.050938</td><td style = \"text-align: right;\">59.5</td><td style = \"text-align: right;\">0.916472</td></tr><tr><td class = \"rowNumber\" style = \"font-weight: bold; text-align: right;\">8</td><td style = \"text-align: left;\">C45</td><td style = \"text-align: right;\">0.0</td><td style = \"text-align: right;\">0.0859307</td><td style = \"text-align: right;\">0.0460317</td><td style = \"text-align: right;\">65.95</td><td style = \"text-align: right;\">0.928086</td></tr><tr><td class = \"rowNumber\" style = \"font-weight: bold; text-align: right;\">9</td><td style = \"text-align: left;\">MON_CART</td><td style = \"text-align: right;\">1.45968e-6</td><td style = \"text-align: right;\">0.122439</td><td style = \"text-align: right;\">0.0593795</td><td style = \"text-align: right;\">76.1</td><td style = \"text-align: right;\">0.900988</td></tr><tr><td class = \"rowNumber\" style = \"font-weight: bold; text-align: right;\">10</td><td style = \"text-align: left;\">FOREST1</td><td style = \"text-align: right;\">0.0</td><td style = \"text-align: right;\">0.110101</td><td style = \"text-align: right;\">0.0588745</td><td style = \"text-align: right;\">15.929</td><td style = \"text-align: right;\">0.909133</td></tr></tbody></table></div>"
      ],
      "text/latex": [
       "\\begin{tabular}{r|cccccc}\n",
       "\t& Methode & INM & MAE & MZE & leaves & tau\\\\\n",
       "\t\\hline\n",
       "\t& String & Float64 & Float64 & Float64 & Float64 & Float64\\\\\n",
       "\t\\hline\n",
       "\t1 & MON\\_ID3 & 1.87674e-6 & 0.647547 & 0.360462 & 1479.6 & 0.555126 \\\\\n",
       "\t2 & MON\\_C45 & 6.25579e-7 & 0.0965368 & 0.0484127 & 68.4 & 0.920794 \\\\\n",
       "\t3 & CART & 2.08526e-6 & 0.0821789 & 0.0450938 & 58.1 & 0.930689 \\\\\n",
       "\t4 & MON\\_RankTree & 2.50231e-6 & 0.116883 & 0.058153 & 70.7 & 0.904861 \\\\\n",
       "\t5 & FOREST2 & 0.0 & 0.167316 & 0.0764791 & 43.592 & 0.869604 \\\\\n",
       "\t6 & ID3 & 1.66821e-6 & 0.645887 & 0.359885 & 1482.6 & 0.55595 \\\\\n",
       "\t7 & RankTree & 2.29379e-6 & 0.102886 & 0.050938 & 59.5 & 0.916472 \\\\\n",
       "\t8 & C45 & 0.0 & 0.0859307 & 0.0460317 & 65.95 & 0.928086 \\\\\n",
       "\t9 & MON\\_CART & 1.45968e-6 & 0.122439 & 0.0593795 & 76.1 & 0.900988 \\\\\n",
       "\t10 & FOREST1 & 0.0 & 0.110101 & 0.0588745 & 15.929 & 0.909133 \\\\\n",
       "\\end{tabular}\n"
      ],
      "text/plain": [
       "\u001b[1m10×6 DataFrame\u001b[0m\n",
       "\u001b[1m Row \u001b[0m│\u001b[1m Methode      \u001b[0m\u001b[1m INM        \u001b[0m\u001b[1m MAE       \u001b[0m\u001b[1m MZE       \u001b[0m\u001b[1m leaves   \u001b[0m\u001b[1m tau      \u001b[0m\n",
       "     │\u001b[90m String       \u001b[0m\u001b[90m Float64    \u001b[0m\u001b[90m Float64   \u001b[0m\u001b[90m Float64   \u001b[0m\u001b[90m Float64  \u001b[0m\u001b[90m Float64  \u001b[0m\n",
       "─────┼────────────────────────────────────────────────────────────────────\n",
       "   1 │ MON_ID3       1.87674e-6  0.647547   0.360462   1479.6    0.555126\n",
       "   2 │ MON_C45       6.25579e-7  0.0965368  0.0484127    68.4    0.920794\n",
       "   3 │ CART          2.08526e-6  0.0821789  0.0450938    58.1    0.930689\n",
       "   4 │ MON_RankTree  2.50231e-6  0.116883   0.058153     70.7    0.904861\n",
       "   5 │ FOREST2       0.0         0.167316   0.0764791    43.592  0.869604\n",
       "   6 │ ID3           1.66821e-6  0.645887   0.359885   1482.6    0.55595\n",
       "   7 │ RankTree      2.29379e-6  0.102886   0.050938     59.5    0.916472\n",
       "   8 │ C45           0.0         0.0859307  0.0460317    65.95   0.928086\n",
       "   9 │ MON_CART      1.45968e-6  0.122439   0.0593795    76.1    0.900988\n",
       "  10 │ FOREST1       0.0         0.110101   0.0588745    15.929  0.909133"
      ]
     },
     "execution_count": 171,
     "metadata": {},
     "output_type": "execute_result"
    }
   ],
   "source": [
    "resultat2"
   ]
  },
  {
   "cell_type": "markdown",
   "id": "149d3e79",
   "metadata": {},
   "source": [
    "### Yeast"
   ]
  },
  {
   "cell_type": "code",
   "execution_count": 95,
   "id": "4728ecdd",
   "metadata": {},
   "outputs": [
    {
     "data": {
      "text/html": [
       "<div><div style = \"float: left;\"><span>10×6 DataFrame</span></div><div style = \"clear: both;\"></div></div><div class = \"data-frame\" style = \"overflow-x: scroll;\"><table class = \"data-frame\" style = \"margin-bottom: 6px;\"><thead><tr class = \"header\"><th class = \"rowNumber\" style = \"font-weight: bold; text-align: right;\">Row</th><th style = \"text-align: left;\">Methode</th><th style = \"text-align: left;\">INM</th><th style = \"text-align: left;\">MAE</th><th style = \"text-align: left;\">MZE</th><th style = \"text-align: left;\">leaves</th><th style = \"text-align: left;\">tau</th></tr><tr class = \"subheader headerLastRow\"><th class = \"rowNumber\" style = \"font-weight: bold; text-align: right;\"></th><th title = \"String\" style = \"text-align: left;\">String</th><th title = \"Float64\" style = \"text-align: left;\">Float64</th><th title = \"Float64\" style = \"text-align: left;\">Float64</th><th title = \"Float64\" style = \"text-align: left;\">Float64</th><th title = \"Float64\" style = \"text-align: left;\">Float64</th><th title = \"Float64\" style = \"text-align: left;\">Float64</th></tr></thead><tbody><tr><td class = \"rowNumber\" style = \"font-weight: bold; text-align: right;\">1</td><td style = \"text-align: left;\">MON_ID3</td><td style = \"text-align: right;\">0.019381</td><td style = \"text-align: right;\">1.32697</td><td style = \"text-align: right;\">0.638427</td><td style = \"text-align: right;\">869.65</td><td style = \"text-align: right;\">-0.0471202</td></tr><tr><td class = \"rowNumber\" style = \"font-weight: bold; text-align: right;\">2</td><td style = \"text-align: left;\">MON_C45</td><td style = \"text-align: right;\">0.0203578</td><td style = \"text-align: right;\">1.09955</td><td style = \"text-align: right;\">0.528876</td><td style = \"text-align: right;\">359.1</td><td style = \"text-align: right;\">0.10707</td></tr><tr><td class = \"rowNumber\" style = \"font-weight: bold; text-align: right;\">3</td><td style = \"text-align: left;\">CART</td><td style = \"text-align: right;\">0.0214511</td><td style = \"text-align: right;\">1.01247</td><td style = \"text-align: right;\">0.50382</td><td style = \"text-align: right;\">319.7</td><td style = \"text-align: right;\">0.140985</td></tr><tr><td class = \"rowNumber\" style = \"font-weight: bold; text-align: right;\">4</td><td style = \"text-align: left;\">MON_RankTree</td><td style = \"text-align: right;\">0.0213514</td><td style = \"text-align: right;\">1.11225</td><td style = \"text-align: right;\">0.525056</td><td style = \"text-align: right;\">363.2</td><td style = \"text-align: right;\">0.108071</td></tr><tr><td class = \"rowNumber\" style = \"font-weight: bold; text-align: right;\">5</td><td style = \"text-align: left;\">FOREST2</td><td style = \"text-align: right;\">0.0133217</td><td style = \"text-align: right;\">0.819888</td><td style = \"text-align: right;\">0.449775</td><td style = \"text-align: right;\">49.007</td><td style = \"text-align: right;\">0.186764</td></tr><tr><td class = \"rowNumber\" style = \"font-weight: bold; text-align: right;\">6</td><td style = \"text-align: left;\">ID3</td><td style = \"text-align: right;\">0.0200435</td><td style = \"text-align: right;\">1.30236</td><td style = \"text-align: right;\">0.629775</td><td style = \"text-align: right;\">940.3</td><td style = \"text-align: right;\">-0.0301802</td></tr><tr><td class = \"rowNumber\" style = \"font-weight: bold; text-align: right;\">7</td><td style = \"text-align: left;\">RankTree</td><td style = \"text-align: right;\">0.0216839</td><td style = \"text-align: right;\">1.08292</td><td style = \"text-align: right;\">0.524831</td><td style = \"text-align: right;\">361.95</td><td style = \"text-align: right;\">0.111673</td></tr><tr><td class = \"rowNumber\" style = \"font-weight: bold; text-align: right;\">8</td><td style = \"text-align: left;\">C45</td><td style = \"text-align: right;\">0.0214865</td><td style = \"text-align: right;\">1.02169</td><td style = \"text-align: right;\">0.506404</td><td style = \"text-align: right;\">340.75</td><td style = \"text-align: right;\">0.124877</td></tr><tr><td class = \"rowNumber\" style = \"font-weight: bold; text-align: right;\">9</td><td style = \"text-align: left;\">MON_CART</td><td style = \"text-align: right;\">0.0206347</td><td style = \"text-align: right;\">0.993371</td><td style = \"text-align: right;\">0.503258</td><td style = \"text-align: right;\">327.2</td><td style = \"text-align: right;\">0.144596</td></tr><tr><td class = \"rowNumber\" style = \"font-weight: bold; text-align: right;\">10</td><td style = \"text-align: left;\">FOREST1</td><td style = \"text-align: right;\">0.0181106</td><td style = \"text-align: right;\">0.771573</td><td style = \"text-align: right;\">0.411124</td><td style = \"text-align: right;\">38.246</td><td style = \"text-align: right;\">0.237889</td></tr></tbody></table></div>"
      ],
      "text/latex": [
       "\\begin{tabular}{r|cccccc}\n",
       "\t& Methode & INM & MAE & MZE & leaves & tau\\\\\n",
       "\t\\hline\n",
       "\t& String & Float64 & Float64 & Float64 & Float64 & Float64\\\\\n",
       "\t\\hline\n",
       "\t1 & MON\\_ID3 & 0.019381 & 1.32697 & 0.638427 & 869.65 & -0.0471202 \\\\\n",
       "\t2 & MON\\_C45 & 0.0203578 & 1.09955 & 0.528876 & 359.1 & 0.10707 \\\\\n",
       "\t3 & CART & 0.0214511 & 1.01247 & 0.50382 & 319.7 & 0.140985 \\\\\n",
       "\t4 & MON\\_RankTree & 0.0213514 & 1.11225 & 0.525056 & 363.2 & 0.108071 \\\\\n",
       "\t5 & FOREST2 & 0.0133217 & 0.819888 & 0.449775 & 49.007 & 0.186764 \\\\\n",
       "\t6 & ID3 & 0.0200435 & 1.30236 & 0.629775 & 940.3 & -0.0301802 \\\\\n",
       "\t7 & RankTree & 0.0216839 & 1.08292 & 0.524831 & 361.95 & 0.111673 \\\\\n",
       "\t8 & C45 & 0.0214865 & 1.02169 & 0.506404 & 340.75 & 0.124877 \\\\\n",
       "\t9 & MON\\_CART & 0.0206347 & 0.993371 & 0.503258 & 327.2 & 0.144596 \\\\\n",
       "\t10 & FOREST1 & 0.0181106 & 0.771573 & 0.411124 & 38.246 & 0.237889 \\\\\n",
       "\\end{tabular}\n"
      ],
      "text/plain": [
       "\u001b[1m10×6 DataFrame\u001b[0m\n",
       "\u001b[1m Row \u001b[0m│\u001b[1m Methode      \u001b[0m\u001b[1m INM       \u001b[0m\u001b[1m MAE      \u001b[0m\u001b[1m MZE      \u001b[0m\u001b[1m leaves  \u001b[0m\u001b[1m tau        \u001b[0m\n",
       "     │\u001b[90m String       \u001b[0m\u001b[90m Float64   \u001b[0m\u001b[90m Float64  \u001b[0m\u001b[90m Float64  \u001b[0m\u001b[90m Float64 \u001b[0m\u001b[90m Float64    \u001b[0m\n",
       "─────┼──────────────────────────────────────────────────────────────────\n",
       "   1 │ MON_ID3       0.019381   1.32697   0.638427  869.65   -0.0471202\n",
       "   2 │ MON_C45       0.0203578  1.09955   0.528876  359.1     0.10707\n",
       "   3 │ CART          0.0214511  1.01247   0.50382   319.7     0.140985\n",
       "   4 │ MON_RankTree  0.0213514  1.11225   0.525056  363.2     0.108071\n",
       "   5 │ FOREST2       0.0133217  0.819888  0.449775   49.007   0.186764\n",
       "   6 │ ID3           0.0200435  1.30236   0.629775  940.3    -0.0301802\n",
       "   7 │ RankTree      0.0216839  1.08292   0.524831  361.95    0.111673\n",
       "   8 │ C45           0.0214865  1.02169   0.506404  340.75    0.124877\n",
       "   9 │ MON_CART      0.0206347  0.993371  0.503258  327.2     0.144596\n",
       "  10 │ FOREST1       0.0181106  0.771573  0.411124   38.246   0.237889"
      ]
     },
     "execution_count": 95,
     "metadata": {},
     "output_type": "execute_result"
    }
   ],
   "source": [
    "resultat3"
   ]
  }
 ],
 "metadata": {
  "kernelspec": {
   "display_name": "Julia 1.8.3",
   "language": "julia",
   "name": "julia-1.8"
  },
  "language_info": {
   "file_extension": ".jl",
   "mimetype": "application/julia",
   "name": "julia",
   "version": "1.8.3"
  }
 },
 "nbformat": 4,
 "nbformat_minor": 5
}
